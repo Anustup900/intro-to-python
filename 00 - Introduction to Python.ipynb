{
 "cells": [
  {
   "cell_type": "markdown",
   "metadata": {},
   "source": [
    "# Introduction to Python for Data Analysis\n",
    "\n",
    "Python is one of the world's most popular programming languages, used in as diverse a range of places as in software systems used by NASA, in Google's search engine and web crawler, and by Industrial Light & Magic in the production of special effects for feature films.\n",
    "\n",
    "It has also become the leading language for data analysis and machine learning.\n",
    "\n",
    "What makes it so popular is that it is intuitive to learn, extremely easy to read, and - while not as fast as compiled languages (like C++), its ease-of-use and straightforward syntax will save you a huge amount of time. There are also a wide range of libraries and code recipes to accomplish almost any task, and a vast community of enthusiasts able to offer guidance and support.\n",
    "<div class=\"alert alert-block alert-warning\">\n",
    "    ** Learning outcomes: **\n",
    "    <br>\n",
    "    <ul>\n",
    "        <li>You'll understand, and have practical experience with, the basic syntax and approach to coding in Python.</li>\n",
    "        <li>You'll write and use modular functions, and import third-party libraries.</li>\n",
    "        <li>You'll learn how to improve your knowledge and experience through online documentation and question-and-answer communities.</li>\n",
    "    </ul>\n",
    "</div>\n",
    "\n",
    "_Lessons_:\n",
    "\n",
    "1. [01 - Installing Python and Jupyter Notebook with Anaconda](01 - Installing Python and Jupyter Notebook with Anaconda.ipynb)\n",
    "2. [02 - Python basics](02 - Python basics.ipynb)\n",
    "3. [03 - Python advanced](03 - Python advanced.ipynb)\n",
    "4. [04 - Python for data analysis](04 - Python for data analysis.ipynb) [Optional and extra]\n",
    "\n",
    "This fledgling overview is not aimed at teaching analysis or statistical techniques, but rather as a brief introduction to the syntax and methods used in Python programming.\n",
    "\n",
    "_Sources_:\n",
    "\n",
    "- [LearnPython.org](https://learnpython.org/)\n",
    "- [Beginning Python](http://hetland.org/writing/beginning-python-2/) by Magnus Lie Hetland, Apress\n",
    "- [10 Minutes to pands](https://pandas.pydata.org/pandas-docs/stable/10min.html), from the pandas documentation"
   ]
  }
 ],
 "metadata": {
  "kernelspec": {
   "display_name": "Python 3",
   "language": "python",
   "name": "python3"
  },
  "language_info": {
   "codemirror_mode": {
    "name": "ipython",
    "version": 3
   },
   "file_extension": ".py",
   "mimetype": "text/x-python",
   "name": "python",
   "nbconvert_exporter": "python",
   "pygments_lexer": "ipython3",
   "version": "3.6.3"
  },
  "latex_envs": {
   "LaTeX_envs_menu_present": true,
   "autocomplete": true,
   "bibliofile": "biblio.bib",
   "cite_by": "apalike",
   "current_citInitial": 1,
   "eqLabelWithNumbers": true,
   "eqNumInitial": 1,
   "hotkeys": {
    "equation": "Ctrl-E",
    "itemize": "Ctrl-I"
   },
   "labels_anchors": false,
   "latex_user_defs": false,
   "report_style_numbering": false,
   "user_envs_cfg": false
  }
 },
 "nbformat": 4,
 "nbformat_minor": 2
}
