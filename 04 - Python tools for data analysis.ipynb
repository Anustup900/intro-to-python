{
 "cells": [
  {
   "cell_type": "markdown",
   "metadata": {},
   "source": [
    "[(previous)](03 - Python intermediate.ipynb) | [(index)](00 - Introduction to Python.ipynb) | [(next)](05 - Introduction to data as a science.ipynb)\n",
    "\n",
    "# Python tools for data analysis\n",
    "\n",
    "<div class=\"alert alert-block alert-warning\">\n",
    "    ** Learning outcomes: **\n",
    "    <br>\n",
    "    <ul>\n",
    "        <li>Identify concepts in ethical reasoning which may influence our analysis and results from data.</li>\n",
    "        <li>Learn and apply a basic set of methods from the core data analysis libraries of Numpy, Pandas and Matplotlib.</li>\n",
    "    </ul>\n",
    "</div>\n",
    "\n",
    "Data has become the most important language of our era, informing everything from intelligence in automated machines, to predictive analytics in medical diagnostics. The plunging cost and easy accessibility of the raw requirements for such systems - data, software, distributed computing, and sensors - are driving the adoption and growth of data-driven decision-making. \n",
    "\n",
    "As it becomes ever-easier to collect data about individuals and systems, a diverse range of professionals - who have never been trained for such requirements - grapple with inadequate analytic and data management skills, as well as the ethical risks arising from the possession and consequences of such data and tools.\n",
    "\n",
    "Before we go on with the technical training, consider the following on the ethics of the data we use.\n",
    "\n",
    "## Ethics\n",
    "\n",
    "Computers cannot make decisions. Their output is an absolute function of the data provided as input, and the algorithms applied to analyse that input. The aid of computers in decision-making does not override human responsibility and accountability.\n",
    "\n",
    "It should be expected that both data and algorithms should stand up to scrutiny so as to justify any and all decisions made as a result of their output. \"Computer says no,\" is not an unquestionable statement.\n",
    "\n",
    "Our actions - as data scientists - are intended to persuade people to act or think other than the way they currently do based on nothing more than the strength of our analysis, and informed by data.\n",
    "\n",
    "The process by which we examine and explain why what we consider to be right or wrong, is considered right or wrong in matters of human conduct, belongs to the study of ethics.\n",
    "\n",
    "<br>\n",
    "<div class=\"well\">\n",
    "<b><i>Case-study</i></b>: _Polygal_ was a gel made from beet and apple pectin. Administered to a severely wounded patient, it was supposed to reduce bleeding. To test this hypothesis, [Sigmund Rascher](https://en.wikipedia.org/wiki/Sigmund_Rascher) administered a tablet to human subjects who were then shot or - without anesthesia - had their limbs amputated.\n",
    "<br><br>\n",
    "During the Second World War, and under the direction of senior Nazi officers, medical experiments of quite unusual violence were conducted on prisoners of war and civilians regarded by the Nazi regime as sub-human. After the war, twenty medical doctors were tried for war crimes and crimes against humanity at the [Doctor's Trial](https://en.wikipedia.org/wiki/Doctors%27_trial) held in Nuremberg from 1946 to 1949.\n",
    "<br><br>\n",
    "In 1947 <a href=\"https://en.wikipedia.org/wiki/Kurt_Blome\">Kurt Blome</a> - Deputy Reich Health Leader, a high-ranking Nazi scientist - was acquitted of war crimes on the strength of intervention by the United States. Within two months, he was being debriefed by the US military who wished to learn everything he knew about biological warfare.\n",
    "<br><br>\n",
    "<i>Do you feel the US was \"right\" or \"wrong\" to offer Blome immunity from prosecution in exchange for what he knew?</i>\n",
    "<br><br>\n",
    "There were numerous experiments conducted by the Nazis that raise ethical dilemmas, including: immersing prisoners in freezing water to observe the result and test hypothermia revival techniques; high altitude pressure and decompression experiments; sulfanilamide tests for treating gangrene and other bacterial infections.\n",
    "<br><br>\n",
    "<i>Do you feel it would be \"right\" or \"wrong\" to use these data in your research and analysis?</i>\n",
    "<br><br>\n",
    "    <a href=\"http://www.loyno.edu/~folse/ethics.html\">Further reading</a>.\n",
    "</div>\n",
    "\n",
    "Whereas everything else we do can describe human behaviour as it _is_, ethics provides a theoretical framework to describe the world as it _should_, or _should not_ be. It gives us full range to describe an ideal outcome, and to consider all that we know and do not know which may impede or confound our desired result.\n",
    "\n",
    "<br>\n",
    "<div class=\"well\">\n",
    "<b><i>Case-study</i></b>: A Nigerian man travels to a conference in the United States. After one of the sessions, he goes to the bathroom to wash his hands. The electronic automated soap dispensor does not recognise his hands beneath the sensor. A white American sees his confusion and places his hands beneath the device. Soap is dispensed. The Nigerian man tries again. It still does not recognise him.\n",
    "<br><br>\n",
    "<i>How would something like this happen? Is it an ethical concern?</i>\n",
    "<br><br>\n",
    "<a href=\"http://www.iflscience.com/technology/this-racist-soap-dispenser-reveals-why-diversity-in-tech-is-muchneeded/\">Further reading</a>.\n",
    "</div>\n",
    "\n",
    "When we consider ethical outcomes, we use the terms _good_ or _bad_ to describe judgements about people or things, and we use _right_ or _wrong_ to refer to the outcome of specific actions. Understand, though, that - while right and wrong may sometimes be obvious - we are often stuck in ethical dilemmas.\n",
    "\n",
    "How we consider whether an action is right or wrong comes down to the tension between what was intended by an action, and what the consequences of that action were. Are only intensions important? Or should we only consider outcomes? And how absolutely do you want to judge this chain: the _right_ motivation, leading to the _right_ intention, performing the _right_ action, resulting in only _good_ consequences. How do we evaluate this against what it may be impossible to know at the time, even if that information will become available after a decision is made?\n",
    "\n",
    "We also need to consider competing interests in good and bad outcomes. A good outcome for the individual making the decision may be a bad decision for numerous others. Conversely, an altruistic person may act only for the benefit of others even to their own detriment.\n",
    "\n",
    "Ethical problems do not always require a call to facts to justify a particular decision, but they do have a number of characteristics:\n",
    "\n",
    " - _Public_: the process by which we arrive at an ethical choice is known to all participants;\n",
    " - _Informal_: the process cannot always be codified into law like a legal system;\n",
    " - _Rational_: despite the informality, the logic used must be accessible and defensible;\n",
    " - _Impartial_: any decision must not favour any group or person;\n",
    "\n",
    "Rather than imposing a specific set of rules to be obeyed, ethics provides a framework in which we may consider whether what we are setting out to achieve conforms to our values, and whether the process by which we arrive at our decision can be validated and inspected by others.\n",
    "\n",
    "No matter how sophisticated our automated machines become, unless our intention is to construct a society \"of machines, for machines\", people will always be needed to decide on what ethical considerations must be taken into account.\n",
    "\n",
    "There are limits to what analysis can achieve, and it is up to the individuals producing that analysis to ensure that any assumptions, doubts, and requirements are documented along with their results. Critically, it is also each individual's personal responsibility to raise any concerns with the source data used in the analysis, including whether personal data are being used legitimately, or whether the source data are at all trustworthy, as well as the algorithms used to process those data and produce a result.\n",
    "\n",
    "## Data analysis\n",
    "\n",
    "This will be a very brief introduction to some tools used in data analysis in Python. This will not provide insight into the approaches to performing analysis, which is left to self-study, or to modules elsewhere in this series.\n",
    "\n",
    "### Numpy arrays\n",
    "\n",
    "Data analysis often involves performing operations on large lists of data. Numpy is a powerful suite of tools permitting you to work quickly and easily with complete data lists. We refer to these lists as arrays, and - if you are familiar with the term from mathematics - you can think of these as matrix methods.\n",
    "\n",
    "By convention, we import Numpy as np; `import numpy as np`.\n",
    "\n",
    "We're also going to want to be generating a lot of lists of random floats for these exercises, and that's tedious to write. Let's get Python to do this for us using the `random` module."
   ]
  },
  {
   "cell_type": "code",
   "execution_count": 1,
   "metadata": {},
   "outputs": [
    {
     "name": "stdout",
     "output_type": "stream",
     "text": [
      "[ 1.32  1.84  1.77  1.17  1.07  1.43  1.27  1.64  1.55  1.35]\n",
      "[ 149.23   97.8    97.16   67.15  139.64   82.64   76.19  190.12  127.44\n",
      "  126.02]\n"
     ]
    }
   ],
   "source": [
    "import numpy as np\n",
    "import random\n",
    "\n",
    "def generate_float_list(lwr, upr, num):\n",
    "    \"\"\"\n",
    "    Return a list of num random decimal floats ranged between lwr and upr.\n",
    "    \n",
    "    Range(lwr, upr) creates a list of every integer between lwr and upr.\n",
    "    random.sample takes num integers from the range list, chosen randomly.\n",
    "    \"\"\"\n",
    "    int_list = random.sample(range(lwr, upr), num)\n",
    "    return [x/100 for x in int_list]\n",
    "\n",
    "# Create two lists\n",
    "height = generate_float_list(100, 220, 10)\n",
    "weight = generate_float_list(5000, 20000, 10)\n",
    "\n",
    "# Convert these to Numpy arrays\n",
    "np_height = np.array(height)\n",
    "np_weight = np.array(weight)\n",
    "\n",
    "print(np_height)\n",
    "print(np_weight)"
   ]
  },
  {
   "cell_type": "markdown",
   "metadata": {},
   "source": [
    "There is a useful timer function built in to Jupyter Notebook. Start any line of code with `%time` and you'll get output on how long the code took to run.\n",
    "\n",
    "This is important when working with data-intensive operations where you want to squeeze out every drop of efficiency by optimising your code.\n",
    "\n",
    "We can now perform operations directly on all the values in these Numpy arrays. Here are two simple methods to use.\n",
    "\n",
    "<div class=\"alert alert-block alert-info\">\n",
    "    ** Methods **\n",
    "    <br>\n",
    "    <ul>\n",
    "        <li>_Element-wise calculations:_ you can treat Numpy arrays as you would individual floats or integers. Note, they must either have the same shape (i.e. number or elements), or you can perform bitwise operations (operate on each item in the array) with a single float or int</li>\n",
    "        <li>_Filtering:_ You can quickly filter Numpy arrays by performing boolean operations, e.g. `np_array[np_array > num]`, or, for a purely boolean response, `np_array > num`</li>\n",
    "    </ul>\n",
    "</div>"
   ]
  },
  {
   "cell_type": "code",
   "execution_count": 2,
   "metadata": {},
   "outputs": [
    {
     "name": "stdout",
     "output_type": "stream",
     "text": [
      "Wall time: 0 ns\n",
      "[  85.64623508   28.88705104   31.01279964   49.05398495  121.96698402\n",
      "   40.41273412   47.23789448   70.68709102   53.04474506   69.14677641]\n",
      "[ True False False  True  True  True  True  True  True  True]\n",
      "[  85.64623508   49.05398495  121.96698402   40.41273412   47.23789448\n",
      "   70.68709102   53.04474506   69.14677641]\n"
     ]
    }
   ],
   "source": [
    "# Calculate body-mass index based on the heights and weights in our arrays\n",
    "# Time the calculation ... it won't be long\n",
    "%time bmi = np_weight / np_height ** 2\n",
    "\n",
    "print(bmi)\n",
    "\n",
    "# Any BMI > 35 is considered severely obese. Let's see who in our sample is at risk.\n",
    "\n",
    "# Get a boolean response\n",
    "print(bmi > 35)\n",
    "\n",
    "# Or print only BMI values above 35\n",
    "print(bmi[bmi > 35])"
   ]
  },
  {
   "cell_type": "markdown",
   "metadata": {},
   "source": [
    "### Pandas\n",
    "\n",
    "We briefly experimented with Pandas back in [Built-in modules](03 - Python intermediate.ipynb#Built-in-modules).\n",
    "\n",
    "The description given for Pandas there was:\n",
    "\n",
    "_**pandas** is a Python package providing fast, flexible, and expressive data structures designed to make working with \"relational\" or \"labeled\" data both easy and intuitive. It aims to be the fundamental high-level building block for doing practical, **real world** data analysis in Python. Additionally, it has the broader goal of becoming **the most powerful and flexible open source data analysis / manipulation tool available in any language**._\n",
    "\n",
    "Pandas is developed by [Wes McKinney](http://wesmckinney.com/) and has a marvelous and active development community. Wes prefers pandas to be written in the lower-case (I'll alternate).\n",
    "\n",
    "Underneath Pandas is Numpy, so they are closely related and tightly integrated. Pandas allows you to manipulate data either as a `Series` (similarly to Numpy, but with added features), or in a tabular form with rows of values and named columns (similar to the way you may think of an Excel spreadsheet).\n",
    "\n",
    "This tabular form is known as a `DataFrame`. Pandas works well with Jupyter Notebook and you can output nicely formated dataframes (just make sure the last line of your code block is the name of the dataframe).\n",
    "\n",
    "The convention is to import pandas as pd, `import pandas as pd`.\n",
    "\n",
    "The following tutorial is taken direclty from the '10 minutes to pandas' section of the [Pandas documentation](https://pandas.pydata.org/pandas-docs/stable/10min.html). Note, this isn't the complete tutorial, and you can continue there.\n",
    "\n",
    "#### Object creation\n",
    "\n",
    "Create a `Series` by passing a list of values, and letting pandas create a default integer index."
   ]
  },
  {
   "cell_type": "code",
   "execution_count": 3,
   "metadata": {},
   "outputs": [
    {
     "data": {
      "text/plain": [
       "0    1.0\n",
       "1    3.0\n",
       "2    5.0\n",
       "3    NaN\n",
       "4    6.0\n",
       "5    8.0\n",
       "dtype: float64"
      ]
     },
     "execution_count": 3,
     "metadata": {},
     "output_type": "execute_result"
    }
   ],
   "source": [
    "import pandas as pd\n",
    "import numpy as np\n",
    "\n",
    "s = pd.Series([1,3,5,np.nan,6,8])\n",
    "s"
   ]
  },
  {
   "cell_type": "markdown",
   "metadata": {},
   "source": [
    "Note that `np.nan` is Numpy's default way of presenting a value as \"not-a-number\". For instance, divide-by-zero returns `np.nan`. This means you can perform complex operations relatively safely and sort out the damage afterwards.\n",
    "\n",
    "Create a DataFrame by passing a numpy array, with a datetime index and labeled columns."
   ]
  },
  {
   "cell_type": "code",
   "execution_count": 4,
   "metadata": {},
   "outputs": [
    {
     "data": {
      "text/plain": [
       "DatetimeIndex(['2013-01-01', '2013-01-02', '2013-01-03', '2013-01-04',\n",
       "               '2013-01-05', '2013-01-06'],\n",
       "              dtype='datetime64[ns]', freq='D')"
      ]
     },
     "execution_count": 4,
     "metadata": {},
     "output_type": "execute_result"
    }
   ],
   "source": [
    "# Create a date range starting at an ISO-formatted date (YYYYMMDD)\n",
    "dates = pd.date_range('20130101', periods=6)\n",
    "dates"
   ]
  },
  {
   "cell_type": "code",
   "execution_count": 5,
   "metadata": {},
   "outputs": [
    {
     "data": {
      "text/html": [
       "<div>\n",
       "<style scoped>\n",
       "    .dataframe tbody tr th:only-of-type {\n",
       "        vertical-align: middle;\n",
       "    }\n",
       "\n",
       "    .dataframe tbody tr th {\n",
       "        vertical-align: top;\n",
       "    }\n",
       "\n",
       "    .dataframe thead th {\n",
       "        text-align: right;\n",
       "    }\n",
       "</style>\n",
       "<table border=\"1\" class=\"dataframe\">\n",
       "  <thead>\n",
       "    <tr style=\"text-align: right;\">\n",
       "      <th></th>\n",
       "      <th>A</th>\n",
       "      <th>B</th>\n",
       "      <th>C</th>\n",
       "      <th>D</th>\n",
       "    </tr>\n",
       "  </thead>\n",
       "  <tbody>\n",
       "    <tr>\n",
       "      <th>2013-01-01</th>\n",
       "      <td>1.205598</td>\n",
       "      <td>-0.071438</td>\n",
       "      <td>0.306682</td>\n",
       "      <td>0.545717</td>\n",
       "    </tr>\n",
       "    <tr>\n",
       "      <th>2013-01-02</th>\n",
       "      <td>0.092422</td>\n",
       "      <td>-0.061060</td>\n",
       "      <td>-2.110284</td>\n",
       "      <td>-0.198416</td>\n",
       "    </tr>\n",
       "    <tr>\n",
       "      <th>2013-01-03</th>\n",
       "      <td>-1.109452</td>\n",
       "      <td>0.135913</td>\n",
       "      <td>0.728159</td>\n",
       "      <td>0.190531</td>\n",
       "    </tr>\n",
       "    <tr>\n",
       "      <th>2013-01-04</th>\n",
       "      <td>0.558765</td>\n",
       "      <td>-0.611331</td>\n",
       "      <td>-0.505350</td>\n",
       "      <td>-0.786160</td>\n",
       "    </tr>\n",
       "    <tr>\n",
       "      <th>2013-01-05</th>\n",
       "      <td>-1.145841</td>\n",
       "      <td>-0.555168</td>\n",
       "      <td>1.874109</td>\n",
       "      <td>0.929688</td>\n",
       "    </tr>\n",
       "    <tr>\n",
       "      <th>2013-01-06</th>\n",
       "      <td>2.002523</td>\n",
       "      <td>2.479305</td>\n",
       "      <td>-0.147435</td>\n",
       "      <td>-1.527081</td>\n",
       "    </tr>\n",
       "  </tbody>\n",
       "</table>\n",
       "</div>"
      ],
      "text/plain": [
       "                   A         B         C         D\n",
       "2013-01-01  1.205598 -0.071438  0.306682  0.545717\n",
       "2013-01-02  0.092422 -0.061060 -2.110284 -0.198416\n",
       "2013-01-03 -1.109452  0.135913  0.728159  0.190531\n",
       "2013-01-04  0.558765 -0.611331 -0.505350 -0.786160\n",
       "2013-01-05 -1.145841 -0.555168  1.874109  0.929688\n",
       "2013-01-06  2.002523  2.479305 -0.147435 -1.527081"
      ]
     },
     "execution_count": 5,
     "metadata": {},
     "output_type": "execute_result"
    }
   ],
   "source": [
    "# Create a dataframe using the date range we created above as the index\n",
    "df = pd.DataFrame(np.random.randn(6,4), index=dates, columns=list('ABCD'))\n",
    "df"
   ]
  },
  {
   "cell_type": "markdown",
   "metadata": {},
   "source": [
    "We can also mix text and numeric data with an automatically-generated index."
   ]
  },
  {
   "cell_type": "code",
   "execution_count": 6,
   "metadata": {},
   "outputs": [
    {
     "data": {
      "text/html": [
       "<div>\n",
       "<style scoped>\n",
       "    .dataframe tbody tr th:only-of-type {\n",
       "        vertical-align: middle;\n",
       "    }\n",
       "\n",
       "    .dataframe tbody tr th {\n",
       "        vertical-align: top;\n",
       "    }\n",
       "\n",
       "    .dataframe thead th {\n",
       "        text-align: right;\n",
       "    }\n",
       "</style>\n",
       "<table border=\"1\" class=\"dataframe\">\n",
       "  <thead>\n",
       "    <tr style=\"text-align: right;\">\n",
       "      <th></th>\n",
       "      <th>area</th>\n",
       "      <th>capital</th>\n",
       "      <th>country</th>\n",
       "      <th>population</th>\n",
       "    </tr>\n",
       "  </thead>\n",
       "  <tbody>\n",
       "    <tr>\n",
       "      <th>0</th>\n",
       "      <td>8.516</td>\n",
       "      <td>Brasilia</td>\n",
       "      <td>Brazil</td>\n",
       "      <td>200.40</td>\n",
       "    </tr>\n",
       "    <tr>\n",
       "      <th>1</th>\n",
       "      <td>17.100</td>\n",
       "      <td>Moscow</td>\n",
       "      <td>Russia</td>\n",
       "      <td>143.50</td>\n",
       "    </tr>\n",
       "    <tr>\n",
       "      <th>2</th>\n",
       "      <td>3.286</td>\n",
       "      <td>New Dehli</td>\n",
       "      <td>India</td>\n",
       "      <td>1252.00</td>\n",
       "    </tr>\n",
       "    <tr>\n",
       "      <th>3</th>\n",
       "      <td>9.597</td>\n",
       "      <td>Beijing</td>\n",
       "      <td>China</td>\n",
       "      <td>1357.00</td>\n",
       "    </tr>\n",
       "    <tr>\n",
       "      <th>4</th>\n",
       "      <td>1.221</td>\n",
       "      <td>Pretoria</td>\n",
       "      <td>South Africa</td>\n",
       "      <td>52.98</td>\n",
       "    </tr>\n",
       "  </tbody>\n",
       "</table>\n",
       "</div>"
      ],
      "text/plain": [
       "     area    capital       country  population\n",
       "0   8.516   Brasilia        Brazil      200.40\n",
       "1  17.100     Moscow        Russia      143.50\n",
       "2   3.286  New Dehli         India     1252.00\n",
       "3   9.597    Beijing         China     1357.00\n",
       "4   1.221   Pretoria  South Africa       52.98"
      ]
     },
     "execution_count": 6,
     "metadata": {},
     "output_type": "execute_result"
    }
   ],
   "source": [
    "dict = {\"country\": [\"Brazil\", \"Russia\", \"India\", \"China\", \"South Africa\"],\n",
    "       \"capital\": [\"Brasilia\", \"Moscow\", \"New Dehli\", \"Beijing\", \"Pretoria\"],\n",
    "       \"area\": [8.516, 17.10, 3.286, 9.597, 1.221],\n",
    "       \"population\": [200.4, 143.5, 1252, 1357, 52.98] }\n",
    "\n",
    "brics = pd.DataFrame(dict)\n",
    "brics"
   ]
  },
  {
   "cell_type": "markdown",
   "metadata": {},
   "source": [
    "The numbers down the left-hand side of the table are called the index. This permits you to reference a specific row. However, Pandas permits you to set your own index, as we did where we set a date range index. You could set one of the existing columns as an index (as long as it consists of unique values) or you could set a new custom index."
   ]
  },
  {
   "cell_type": "code",
   "execution_count": 7,
   "metadata": {},
   "outputs": [
    {
     "data": {
      "text/html": [
       "<div>\n",
       "<style scoped>\n",
       "    .dataframe tbody tr th:only-of-type {\n",
       "        vertical-align: middle;\n",
       "    }\n",
       "\n",
       "    .dataframe tbody tr th {\n",
       "        vertical-align: top;\n",
       "    }\n",
       "\n",
       "    .dataframe thead th {\n",
       "        text-align: right;\n",
       "    }\n",
       "</style>\n",
       "<table border=\"1\" class=\"dataframe\">\n",
       "  <thead>\n",
       "    <tr style=\"text-align: right;\">\n",
       "      <th></th>\n",
       "      <th>area</th>\n",
       "      <th>capital</th>\n",
       "      <th>country</th>\n",
       "      <th>population</th>\n",
       "    </tr>\n",
       "  </thead>\n",
       "  <tbody>\n",
       "    <tr>\n",
       "      <th>BR</th>\n",
       "      <td>8.516</td>\n",
       "      <td>Brasilia</td>\n",
       "      <td>Brazil</td>\n",
       "      <td>200.40</td>\n",
       "    </tr>\n",
       "    <tr>\n",
       "      <th>RU</th>\n",
       "      <td>17.100</td>\n",
       "      <td>Moscow</td>\n",
       "      <td>Russia</td>\n",
       "      <td>143.50</td>\n",
       "    </tr>\n",
       "    <tr>\n",
       "      <th>IN</th>\n",
       "      <td>3.286</td>\n",
       "      <td>New Dehli</td>\n",
       "      <td>India</td>\n",
       "      <td>1252.00</td>\n",
       "    </tr>\n",
       "    <tr>\n",
       "      <th>CH</th>\n",
       "      <td>9.597</td>\n",
       "      <td>Beijing</td>\n",
       "      <td>China</td>\n",
       "      <td>1357.00</td>\n",
       "    </tr>\n",
       "    <tr>\n",
       "      <th>SA</th>\n",
       "      <td>1.221</td>\n",
       "      <td>Pretoria</td>\n",
       "      <td>South Africa</td>\n",
       "      <td>52.98</td>\n",
       "    </tr>\n",
       "  </tbody>\n",
       "</table>\n",
       "</div>"
      ],
      "text/plain": [
       "      area    capital       country  population\n",
       "BR   8.516   Brasilia        Brazil      200.40\n",
       "RU  17.100     Moscow        Russia      143.50\n",
       "IN   3.286  New Dehli         India     1252.00\n",
       "CH   9.597    Beijing         China     1357.00\n",
       "SA   1.221   Pretoria  South Africa       52.98"
      ]
     },
     "execution_count": 7,
     "metadata": {},
     "output_type": "execute_result"
    }
   ],
   "source": [
    "# Set the ISO two-letter country codes as the index\n",
    "brics.index = [\"BR\", \"RU\", \"IN\", \"CH\", \"SA\"]\n",
    "\n",
    "brics"
   ]
  },
  {
   "cell_type": "markdown",
   "metadata": {},
   "source": [
    "#### Viewing data\n",
    "\n",
    "Pandas can work with exceptionally large datasets, including millions of rows. Presenting that takes up space and, if you only want to see what your data looks like (since, most of the time, you can work with it symbolically), then that can be painful. Fortunately, pandas comes with a number of ways of viewing and reviewing your data.\n",
    "\n",
    "<div class=\"alert alert-block alert-info\">\n",
    "    ** Syntax **\n",
    "    <br>\n",
    "    <ul>\n",
    "        <li>See the top and bottom rows of your dataframe with `df.head()` or `df.tail(num)` where `num` is an integer number of rows</li>\n",
    "        <li>See the index, columns and underlying numpy data with `df.index`, `df.columns` and `df.values`</li>\n",
    "        <li>Get a quick statistical summary of your data with `df.describe()`</li>\n",
    "        <li>Transpose your data with `df.T`</li>\n",
    "        <li>Sort by an axis with `df.sort_index(axis=1, ascending=False)` where `axis=1` refers to columns, and `axis=0` refers to rows</li>\n",
    "        <li>Sort by values with `df.sort_values(by=column)`</li>\n",
    "    </ul>\n",
    "</div>"
   ]
  },
  {
   "cell_type": "code",
   "execution_count": 8,
   "metadata": {},
   "outputs": [
    {
     "data": {
      "text/html": [
       "<div>\n",
       "<style scoped>\n",
       "    .dataframe tbody tr th:only-of-type {\n",
       "        vertical-align: middle;\n",
       "    }\n",
       "\n",
       "    .dataframe tbody tr th {\n",
       "        vertical-align: top;\n",
       "    }\n",
       "\n",
       "    .dataframe thead th {\n",
       "        text-align: right;\n",
       "    }\n",
       "</style>\n",
       "<table border=\"1\" class=\"dataframe\">\n",
       "  <thead>\n",
       "    <tr style=\"text-align: right;\">\n",
       "      <th></th>\n",
       "      <th>A</th>\n",
       "      <th>B</th>\n",
       "      <th>C</th>\n",
       "      <th>D</th>\n",
       "    </tr>\n",
       "  </thead>\n",
       "  <tbody>\n",
       "    <tr>\n",
       "      <th>2013-01-01</th>\n",
       "      <td>1.205598</td>\n",
       "      <td>-0.071438</td>\n",
       "      <td>0.306682</td>\n",
       "      <td>0.545717</td>\n",
       "    </tr>\n",
       "    <tr>\n",
       "      <th>2013-01-02</th>\n",
       "      <td>0.092422</td>\n",
       "      <td>-0.061060</td>\n",
       "      <td>-2.110284</td>\n",
       "      <td>-0.198416</td>\n",
       "    </tr>\n",
       "    <tr>\n",
       "      <th>2013-01-03</th>\n",
       "      <td>-1.109452</td>\n",
       "      <td>0.135913</td>\n",
       "      <td>0.728159</td>\n",
       "      <td>0.190531</td>\n",
       "    </tr>\n",
       "    <tr>\n",
       "      <th>2013-01-04</th>\n",
       "      <td>0.558765</td>\n",
       "      <td>-0.611331</td>\n",
       "      <td>-0.505350</td>\n",
       "      <td>-0.786160</td>\n",
       "    </tr>\n",
       "    <tr>\n",
       "      <th>2013-01-05</th>\n",
       "      <td>-1.145841</td>\n",
       "      <td>-0.555168</td>\n",
       "      <td>1.874109</td>\n",
       "      <td>0.929688</td>\n",
       "    </tr>\n",
       "  </tbody>\n",
       "</table>\n",
       "</div>"
      ],
      "text/plain": [
       "                   A         B         C         D\n",
       "2013-01-01  1.205598 -0.071438  0.306682  0.545717\n",
       "2013-01-02  0.092422 -0.061060 -2.110284 -0.198416\n",
       "2013-01-03 -1.109452  0.135913  0.728159  0.190531\n",
       "2013-01-04  0.558765 -0.611331 -0.505350 -0.786160\n",
       "2013-01-05 -1.145841 -0.555168  1.874109  0.929688"
      ]
     },
     "execution_count": 8,
     "metadata": {},
     "output_type": "execute_result"
    }
   ],
   "source": [
    "# Head\n",
    "df.head()"
   ]
  },
  {
   "cell_type": "code",
   "execution_count": 9,
   "metadata": {},
   "outputs": [
    {
     "data": {
      "text/html": [
       "<div>\n",
       "<style scoped>\n",
       "    .dataframe tbody tr th:only-of-type {\n",
       "        vertical-align: middle;\n",
       "    }\n",
       "\n",
       "    .dataframe tbody tr th {\n",
       "        vertical-align: top;\n",
       "    }\n",
       "\n",
       "    .dataframe thead th {\n",
       "        text-align: right;\n",
       "    }\n",
       "</style>\n",
       "<table border=\"1\" class=\"dataframe\">\n",
       "  <thead>\n",
       "    <tr style=\"text-align: right;\">\n",
       "      <th></th>\n",
       "      <th>A</th>\n",
       "      <th>B</th>\n",
       "      <th>C</th>\n",
       "      <th>D</th>\n",
       "    </tr>\n",
       "  </thead>\n",
       "  <tbody>\n",
       "    <tr>\n",
       "      <th>2013-01-04</th>\n",
       "      <td>0.558765</td>\n",
       "      <td>-0.611331</td>\n",
       "      <td>-0.505350</td>\n",
       "      <td>-0.786160</td>\n",
       "    </tr>\n",
       "    <tr>\n",
       "      <th>2013-01-05</th>\n",
       "      <td>-1.145841</td>\n",
       "      <td>-0.555168</td>\n",
       "      <td>1.874109</td>\n",
       "      <td>0.929688</td>\n",
       "    </tr>\n",
       "    <tr>\n",
       "      <th>2013-01-06</th>\n",
       "      <td>2.002523</td>\n",
       "      <td>2.479305</td>\n",
       "      <td>-0.147435</td>\n",
       "      <td>-1.527081</td>\n",
       "    </tr>\n",
       "  </tbody>\n",
       "</table>\n",
       "</div>"
      ],
      "text/plain": [
       "                   A         B         C         D\n",
       "2013-01-04  0.558765 -0.611331 -0.505350 -0.786160\n",
       "2013-01-05 -1.145841 -0.555168  1.874109  0.929688\n",
       "2013-01-06  2.002523  2.479305 -0.147435 -1.527081"
      ]
     },
     "execution_count": 9,
     "metadata": {},
     "output_type": "execute_result"
    }
   ],
   "source": [
    "# Tail\n",
    "df.tail(3)"
   ]
  },
  {
   "cell_type": "code",
   "execution_count": 10,
   "metadata": {},
   "outputs": [
    {
     "data": {
      "text/plain": [
       "DatetimeIndex(['2013-01-01', '2013-01-02', '2013-01-03', '2013-01-04',\n",
       "               '2013-01-05', '2013-01-06'],\n",
       "              dtype='datetime64[ns]', freq='D')"
      ]
     },
     "execution_count": 10,
     "metadata": {},
     "output_type": "execute_result"
    }
   ],
   "source": [
    "# Index\n",
    "df.index"
   ]
  },
  {
   "cell_type": "code",
   "execution_count": 11,
   "metadata": {},
   "outputs": [
    {
     "data": {
      "text/plain": [
       "array([[ 1.20559823, -0.07143802,  0.30668228,  0.54571684],\n",
       "       [ 0.09242208, -0.06106031, -2.11028396, -0.19841566],\n",
       "       [-1.10945192,  0.13591278,  0.72815878,  0.19053084],\n",
       "       [ 0.55876544, -0.6113305 , -0.50534972, -0.78615954],\n",
       "       [-1.14584077, -0.55516757,  1.87410927,  0.92968789],\n",
       "       [ 2.00252293,  2.47930486, -0.14743545, -1.52708063]])"
      ]
     },
     "execution_count": 11,
     "metadata": {},
     "output_type": "execute_result"
    }
   ],
   "source": [
    "# Values\n",
    "df.values"
   ]
  },
  {
   "cell_type": "code",
   "execution_count": 12,
   "metadata": {},
   "outputs": [
    {
     "data": {
      "text/html": [
       "<div>\n",
       "<style scoped>\n",
       "    .dataframe tbody tr th:only-of-type {\n",
       "        vertical-align: middle;\n",
       "    }\n",
       "\n",
       "    .dataframe tbody tr th {\n",
       "        vertical-align: top;\n",
       "    }\n",
       "\n",
       "    .dataframe thead th {\n",
       "        text-align: right;\n",
       "    }\n",
       "</style>\n",
       "<table border=\"1\" class=\"dataframe\">\n",
       "  <thead>\n",
       "    <tr style=\"text-align: right;\">\n",
       "      <th></th>\n",
       "      <th>A</th>\n",
       "      <th>B</th>\n",
       "      <th>C</th>\n",
       "      <th>D</th>\n",
       "    </tr>\n",
       "  </thead>\n",
       "  <tbody>\n",
       "    <tr>\n",
       "      <th>count</th>\n",
       "      <td>6.000000</td>\n",
       "      <td>6.000000</td>\n",
       "      <td>6.000000</td>\n",
       "      <td>6.000000</td>\n",
       "    </tr>\n",
       "    <tr>\n",
       "      <th>mean</th>\n",
       "      <td>0.267336</td>\n",
       "      <td>0.219370</td>\n",
       "      <td>0.024314</td>\n",
       "      <td>-0.140953</td>\n",
       "    </tr>\n",
       "    <tr>\n",
       "      <th>std</th>\n",
       "      <td>1.256929</td>\n",
       "      <td>1.146076</td>\n",
       "      <td>1.331422</td>\n",
       "      <td>0.902066</td>\n",
       "    </tr>\n",
       "    <tr>\n",
       "      <th>min</th>\n",
       "      <td>-1.145841</td>\n",
       "      <td>-0.611331</td>\n",
       "      <td>-2.110284</td>\n",
       "      <td>-1.527081</td>\n",
       "    </tr>\n",
       "    <tr>\n",
       "      <th>25%</th>\n",
       "      <td>-0.808983</td>\n",
       "      <td>-0.434235</td>\n",
       "      <td>-0.415871</td>\n",
       "      <td>-0.639224</td>\n",
       "    </tr>\n",
       "    <tr>\n",
       "      <th>50%</th>\n",
       "      <td>0.325594</td>\n",
       "      <td>-0.066249</td>\n",
       "      <td>0.079623</td>\n",
       "      <td>-0.003942</td>\n",
       "    </tr>\n",
       "    <tr>\n",
       "      <th>75%</th>\n",
       "      <td>1.043890</td>\n",
       "      <td>0.086670</td>\n",
       "      <td>0.622790</td>\n",
       "      <td>0.456920</td>\n",
       "    </tr>\n",
       "    <tr>\n",
       "      <th>max</th>\n",
       "      <td>2.002523</td>\n",
       "      <td>2.479305</td>\n",
       "      <td>1.874109</td>\n",
       "      <td>0.929688</td>\n",
       "    </tr>\n",
       "  </tbody>\n",
       "</table>\n",
       "</div>"
      ],
      "text/plain": [
       "              A         B         C         D\n",
       "count  6.000000  6.000000  6.000000  6.000000\n",
       "mean   0.267336  0.219370  0.024314 -0.140953\n",
       "std    1.256929  1.146076  1.331422  0.902066\n",
       "min   -1.145841 -0.611331 -2.110284 -1.527081\n",
       "25%   -0.808983 -0.434235 -0.415871 -0.639224\n",
       "50%    0.325594 -0.066249  0.079623 -0.003942\n",
       "75%    1.043890  0.086670  0.622790  0.456920\n",
       "max    2.002523  2.479305  1.874109  0.929688"
      ]
     },
     "execution_count": 12,
     "metadata": {},
     "output_type": "execute_result"
    }
   ],
   "source": [
    "# Statistical summary\n",
    "df.describe()"
   ]
  },
  {
   "cell_type": "code",
   "execution_count": 13,
   "metadata": {},
   "outputs": [
    {
     "data": {
      "text/html": [
       "<div>\n",
       "<style scoped>\n",
       "    .dataframe tbody tr th:only-of-type {\n",
       "        vertical-align: middle;\n",
       "    }\n",
       "\n",
       "    .dataframe tbody tr th {\n",
       "        vertical-align: top;\n",
       "    }\n",
       "\n",
       "    .dataframe thead th {\n",
       "        text-align: right;\n",
       "    }\n",
       "</style>\n",
       "<table border=\"1\" class=\"dataframe\">\n",
       "  <thead>\n",
       "    <tr style=\"text-align: right;\">\n",
       "      <th></th>\n",
       "      <th>2013-01-01 00:00:00</th>\n",
       "      <th>2013-01-02 00:00:00</th>\n",
       "      <th>2013-01-03 00:00:00</th>\n",
       "      <th>2013-01-04 00:00:00</th>\n",
       "      <th>2013-01-05 00:00:00</th>\n",
       "      <th>2013-01-06 00:00:00</th>\n",
       "    </tr>\n",
       "  </thead>\n",
       "  <tbody>\n",
       "    <tr>\n",
       "      <th>A</th>\n",
       "      <td>1.205598</td>\n",
       "      <td>0.092422</td>\n",
       "      <td>-1.109452</td>\n",
       "      <td>0.558765</td>\n",
       "      <td>-1.145841</td>\n",
       "      <td>2.002523</td>\n",
       "    </tr>\n",
       "    <tr>\n",
       "      <th>B</th>\n",
       "      <td>-0.071438</td>\n",
       "      <td>-0.061060</td>\n",
       "      <td>0.135913</td>\n",
       "      <td>-0.611331</td>\n",
       "      <td>-0.555168</td>\n",
       "      <td>2.479305</td>\n",
       "    </tr>\n",
       "    <tr>\n",
       "      <th>C</th>\n",
       "      <td>0.306682</td>\n",
       "      <td>-2.110284</td>\n",
       "      <td>0.728159</td>\n",
       "      <td>-0.505350</td>\n",
       "      <td>1.874109</td>\n",
       "      <td>-0.147435</td>\n",
       "    </tr>\n",
       "    <tr>\n",
       "      <th>D</th>\n",
       "      <td>0.545717</td>\n",
       "      <td>-0.198416</td>\n",
       "      <td>0.190531</td>\n",
       "      <td>-0.786160</td>\n",
       "      <td>0.929688</td>\n",
       "      <td>-1.527081</td>\n",
       "    </tr>\n",
       "  </tbody>\n",
       "</table>\n",
       "</div>"
      ],
      "text/plain": [
       "   2013-01-01  2013-01-02  2013-01-03  2013-01-04  2013-01-05  2013-01-06\n",
       "A    1.205598    0.092422   -1.109452    0.558765   -1.145841    2.002523\n",
       "B   -0.071438   -0.061060    0.135913   -0.611331   -0.555168    2.479305\n",
       "C    0.306682   -2.110284    0.728159   -0.505350    1.874109   -0.147435\n",
       "D    0.545717   -0.198416    0.190531   -0.786160    0.929688   -1.527081"
      ]
     },
     "execution_count": 13,
     "metadata": {},
     "output_type": "execute_result"
    }
   ],
   "source": [
    "# Transpose\n",
    "df.T"
   ]
  },
  {
   "cell_type": "code",
   "execution_count": 14,
   "metadata": {},
   "outputs": [
    {
     "data": {
      "text/html": [
       "<div>\n",
       "<style scoped>\n",
       "    .dataframe tbody tr th:only-of-type {\n",
       "        vertical-align: middle;\n",
       "    }\n",
       "\n",
       "    .dataframe tbody tr th {\n",
       "        vertical-align: top;\n",
       "    }\n",
       "\n",
       "    .dataframe thead th {\n",
       "        text-align: right;\n",
       "    }\n",
       "</style>\n",
       "<table border=\"1\" class=\"dataframe\">\n",
       "  <thead>\n",
       "    <tr style=\"text-align: right;\">\n",
       "      <th></th>\n",
       "      <th>D</th>\n",
       "      <th>C</th>\n",
       "      <th>B</th>\n",
       "      <th>A</th>\n",
       "    </tr>\n",
       "  </thead>\n",
       "  <tbody>\n",
       "    <tr>\n",
       "      <th>2013-01-01</th>\n",
       "      <td>0.545717</td>\n",
       "      <td>0.306682</td>\n",
       "      <td>-0.071438</td>\n",
       "      <td>1.205598</td>\n",
       "    </tr>\n",
       "    <tr>\n",
       "      <th>2013-01-02</th>\n",
       "      <td>-0.198416</td>\n",
       "      <td>-2.110284</td>\n",
       "      <td>-0.061060</td>\n",
       "      <td>0.092422</td>\n",
       "    </tr>\n",
       "    <tr>\n",
       "      <th>2013-01-03</th>\n",
       "      <td>0.190531</td>\n",
       "      <td>0.728159</td>\n",
       "      <td>0.135913</td>\n",
       "      <td>-1.109452</td>\n",
       "    </tr>\n",
       "    <tr>\n",
       "      <th>2013-01-04</th>\n",
       "      <td>-0.786160</td>\n",
       "      <td>-0.505350</td>\n",
       "      <td>-0.611331</td>\n",
       "      <td>0.558765</td>\n",
       "    </tr>\n",
       "    <tr>\n",
       "      <th>2013-01-05</th>\n",
       "      <td>0.929688</td>\n",
       "      <td>1.874109</td>\n",
       "      <td>-0.555168</td>\n",
       "      <td>-1.145841</td>\n",
       "    </tr>\n",
       "    <tr>\n",
       "      <th>2013-01-06</th>\n",
       "      <td>-1.527081</td>\n",
       "      <td>-0.147435</td>\n",
       "      <td>2.479305</td>\n",
       "      <td>2.002523</td>\n",
       "    </tr>\n",
       "  </tbody>\n",
       "</table>\n",
       "</div>"
      ],
      "text/plain": [
       "                   D         C         B         A\n",
       "2013-01-01  0.545717  0.306682 -0.071438  1.205598\n",
       "2013-01-02 -0.198416 -2.110284 -0.061060  0.092422\n",
       "2013-01-03  0.190531  0.728159  0.135913 -1.109452\n",
       "2013-01-04 -0.786160 -0.505350 -0.611331  0.558765\n",
       "2013-01-05  0.929688  1.874109 -0.555168 -1.145841\n",
       "2013-01-06 -1.527081 -0.147435  2.479305  2.002523"
      ]
     },
     "execution_count": 14,
     "metadata": {},
     "output_type": "execute_result"
    }
   ],
   "source": [
    "# Sort by an axis\n",
    "df.sort_index(axis=1, ascending=False)"
   ]
  },
  {
   "cell_type": "code",
   "execution_count": 15,
   "metadata": {},
   "outputs": [
    {
     "data": {
      "text/html": [
       "<div>\n",
       "<style scoped>\n",
       "    .dataframe tbody tr th:only-of-type {\n",
       "        vertical-align: middle;\n",
       "    }\n",
       "\n",
       "    .dataframe tbody tr th {\n",
       "        vertical-align: top;\n",
       "    }\n",
       "\n",
       "    .dataframe thead th {\n",
       "        text-align: right;\n",
       "    }\n",
       "</style>\n",
       "<table border=\"1\" class=\"dataframe\">\n",
       "  <thead>\n",
       "    <tr style=\"text-align: right;\">\n",
       "      <th></th>\n",
       "      <th>A</th>\n",
       "      <th>B</th>\n",
       "      <th>C</th>\n",
       "      <th>D</th>\n",
       "    </tr>\n",
       "  </thead>\n",
       "  <tbody>\n",
       "    <tr>\n",
       "      <th>2013-01-04</th>\n",
       "      <td>0.558765</td>\n",
       "      <td>-0.611331</td>\n",
       "      <td>-0.505350</td>\n",
       "      <td>-0.786160</td>\n",
       "    </tr>\n",
       "    <tr>\n",
       "      <th>2013-01-05</th>\n",
       "      <td>-1.145841</td>\n",
       "      <td>-0.555168</td>\n",
       "      <td>1.874109</td>\n",
       "      <td>0.929688</td>\n",
       "    </tr>\n",
       "    <tr>\n",
       "      <th>2013-01-01</th>\n",
       "      <td>1.205598</td>\n",
       "      <td>-0.071438</td>\n",
       "      <td>0.306682</td>\n",
       "      <td>0.545717</td>\n",
       "    </tr>\n",
       "    <tr>\n",
       "      <th>2013-01-02</th>\n",
       "      <td>0.092422</td>\n",
       "      <td>-0.061060</td>\n",
       "      <td>-2.110284</td>\n",
       "      <td>-0.198416</td>\n",
       "    </tr>\n",
       "    <tr>\n",
       "      <th>2013-01-03</th>\n",
       "      <td>-1.109452</td>\n",
       "      <td>0.135913</td>\n",
       "      <td>0.728159</td>\n",
       "      <td>0.190531</td>\n",
       "    </tr>\n",
       "    <tr>\n",
       "      <th>2013-01-06</th>\n",
       "      <td>2.002523</td>\n",
       "      <td>2.479305</td>\n",
       "      <td>-0.147435</td>\n",
       "      <td>-1.527081</td>\n",
       "    </tr>\n",
       "  </tbody>\n",
       "</table>\n",
       "</div>"
      ],
      "text/plain": [
       "                   A         B         C         D\n",
       "2013-01-04  0.558765 -0.611331 -0.505350 -0.786160\n",
       "2013-01-05 -1.145841 -0.555168  1.874109  0.929688\n",
       "2013-01-01  1.205598 -0.071438  0.306682  0.545717\n",
       "2013-01-02  0.092422 -0.061060 -2.110284 -0.198416\n",
       "2013-01-03 -1.109452  0.135913  0.728159  0.190531\n",
       "2013-01-06  2.002523  2.479305 -0.147435 -1.527081"
      ]
     },
     "execution_count": 15,
     "metadata": {},
     "output_type": "execute_result"
    }
   ],
   "source": [
    "# Sort by values\n",
    "df.sort_values(by=\"B\")"
   ]
  },
  {
   "cell_type": "markdown",
   "metadata": {},
   "source": [
    "#### Selections\n",
    "\n",
    "One of the first steps in data analysis is simply to filter your data and get at slices you're most interested in. Pandas has numerous approaches to quickly get only what you want.\n",
    "<div class=\"alert alert-block alert-info\">\n",
    "    ** Syntax **\n",
    "    <br>\n",
    "    <ul>\n",
    "        <li>Select a single column by addressing the dataframe as you would a dictionary, with `df[column]` or, if the column name is a single word, with `df.column`. This returns a series</li>\n",
    "        <li>Select a slice in the way you would a Python list, with `df[]`, e.g. `df[:3]`, or by slicing the indices, `df[\"20130102\":\"20130104\"]`</li>\n",
    "        <li>Use `.loc` to select by specific labels, such as:</li>\n",
    "        <ul>\n",
    "            <li>Get a cross-section based on a label, with e.g. `df.loc[index[0]]`</li>\n",
    "            <li>Get on multi-axis by a label, with `df.loc[:, [\"A\", \"B\"]]` where the first `:` indicates the slice of rows, and the second list `[\"A\", \"B\"]` indicates the list of columns</li>\n",
    "        </ul>\n",
    "        <li>As you would with Numpy, you can get a boolean-based selection, with e.g. `df[df.A > num]`</li>\n",
    "    </ul>\n",
    "</div>\n",
    "\n",
    "There are a _lot_ more ways to filter and access data, as well as methods to set data in your dataframes, but this will be enough for now."
   ]
  },
  {
   "cell_type": "code",
   "execution_count": 16,
   "metadata": {},
   "outputs": [
    {
     "data": {
      "text/plain": [
       "2013-01-01    1.205598\n",
       "2013-01-02    0.092422\n",
       "2013-01-03   -1.109452\n",
       "2013-01-04    0.558765\n",
       "2013-01-05   -1.145841\n",
       "2013-01-06    2.002523\n",
       "Freq: D, Name: A, dtype: float64"
      ]
     },
     "execution_count": 16,
     "metadata": {},
     "output_type": "execute_result"
    }
   ],
   "source": [
    "# By column\n",
    "df.A"
   ]
  },
  {
   "cell_type": "code",
   "execution_count": 17,
   "metadata": {},
   "outputs": [
    {
     "data": {
      "text/html": [
       "<div>\n",
       "<style scoped>\n",
       "    .dataframe tbody tr th:only-of-type {\n",
       "        vertical-align: middle;\n",
       "    }\n",
       "\n",
       "    .dataframe tbody tr th {\n",
       "        vertical-align: top;\n",
       "    }\n",
       "\n",
       "    .dataframe thead th {\n",
       "        text-align: right;\n",
       "    }\n",
       "</style>\n",
       "<table border=\"1\" class=\"dataframe\">\n",
       "  <thead>\n",
       "    <tr style=\"text-align: right;\">\n",
       "      <th></th>\n",
       "      <th>A</th>\n",
       "      <th>B</th>\n",
       "      <th>C</th>\n",
       "      <th>D</th>\n",
       "    </tr>\n",
       "  </thead>\n",
       "  <tbody>\n",
       "    <tr>\n",
       "      <th>2013-01-02</th>\n",
       "      <td>0.092422</td>\n",
       "      <td>-0.061060</td>\n",
       "      <td>-2.110284</td>\n",
       "      <td>-0.198416</td>\n",
       "    </tr>\n",
       "    <tr>\n",
       "      <th>2013-01-03</th>\n",
       "      <td>-1.109452</td>\n",
       "      <td>0.135913</td>\n",
       "      <td>0.728159</td>\n",
       "      <td>0.190531</td>\n",
       "    </tr>\n",
       "    <tr>\n",
       "      <th>2013-01-04</th>\n",
       "      <td>0.558765</td>\n",
       "      <td>-0.611331</td>\n",
       "      <td>-0.505350</td>\n",
       "      <td>-0.786160</td>\n",
       "    </tr>\n",
       "  </tbody>\n",
       "</table>\n",
       "</div>"
      ],
      "text/plain": [
       "                   A         B         C         D\n",
       "2013-01-02  0.092422 -0.061060 -2.110284 -0.198416\n",
       "2013-01-03 -1.109452  0.135913  0.728159  0.190531\n",
       "2013-01-04  0.558765 -0.611331 -0.505350 -0.786160"
      ]
     },
     "execution_count": 17,
     "metadata": {},
     "output_type": "execute_result"
    }
   ],
   "source": [
    "# By slice\n",
    "df[\"20130102\":\"20130104\"]"
   ]
  },
  {
   "cell_type": "code",
   "execution_count": 18,
   "metadata": {},
   "outputs": [
    {
     "data": {
      "text/plain": [
       "A    1.205598\n",
       "B   -0.071438\n",
       "C    0.306682\n",
       "D    0.545717\n",
       "Name: 2013-01-01 00:00:00, dtype: float64"
      ]
     },
     "execution_count": 18,
     "metadata": {},
     "output_type": "execute_result"
    }
   ],
   "source": [
    "# Cross-section\n",
    "df.loc[dates[0]]"
   ]
  },
  {
   "cell_type": "code",
   "execution_count": 19,
   "metadata": {},
   "outputs": [
    {
     "data": {
      "text/html": [
       "<div>\n",
       "<style scoped>\n",
       "    .dataframe tbody tr th:only-of-type {\n",
       "        vertical-align: middle;\n",
       "    }\n",
       "\n",
       "    .dataframe tbody tr th {\n",
       "        vertical-align: top;\n",
       "    }\n",
       "\n",
       "    .dataframe thead th {\n",
       "        text-align: right;\n",
       "    }\n",
       "</style>\n",
       "<table border=\"1\" class=\"dataframe\">\n",
       "  <thead>\n",
       "    <tr style=\"text-align: right;\">\n",
       "      <th></th>\n",
       "      <th>A</th>\n",
       "      <th>B</th>\n",
       "    </tr>\n",
       "  </thead>\n",
       "  <tbody>\n",
       "    <tr>\n",
       "      <th>2013-01-01</th>\n",
       "      <td>1.205598</td>\n",
       "      <td>-0.071438</td>\n",
       "    </tr>\n",
       "    <tr>\n",
       "      <th>2013-01-02</th>\n",
       "      <td>0.092422</td>\n",
       "      <td>-0.061060</td>\n",
       "    </tr>\n",
       "    <tr>\n",
       "      <th>2013-01-03</th>\n",
       "      <td>-1.109452</td>\n",
       "      <td>0.135913</td>\n",
       "    </tr>\n",
       "    <tr>\n",
       "      <th>2013-01-04</th>\n",
       "      <td>0.558765</td>\n",
       "      <td>-0.611331</td>\n",
       "    </tr>\n",
       "    <tr>\n",
       "      <th>2013-01-05</th>\n",
       "      <td>-1.145841</td>\n",
       "      <td>-0.555168</td>\n",
       "    </tr>\n",
       "    <tr>\n",
       "      <th>2013-01-06</th>\n",
       "      <td>2.002523</td>\n",
       "      <td>2.479305</td>\n",
       "    </tr>\n",
       "  </tbody>\n",
       "</table>\n",
       "</div>"
      ],
      "text/plain": [
       "                   A         B\n",
       "2013-01-01  1.205598 -0.071438\n",
       "2013-01-02  0.092422 -0.061060\n",
       "2013-01-03 -1.109452  0.135913\n",
       "2013-01-04  0.558765 -0.611331\n",
       "2013-01-05 -1.145841 -0.555168\n",
       "2013-01-06  2.002523  2.479305"
      ]
     },
     "execution_count": 19,
     "metadata": {},
     "output_type": "execute_result"
    }
   ],
   "source": [
    "# Multi-axis\n",
    "df.loc[:, [\"A\", \"B\"]]"
   ]
  },
  {
   "cell_type": "code",
   "execution_count": 20,
   "metadata": {},
   "outputs": [
    {
     "data": {
      "text/html": [
       "<div>\n",
       "<style scoped>\n",
       "    .dataframe tbody tr th:only-of-type {\n",
       "        vertical-align: middle;\n",
       "    }\n",
       "\n",
       "    .dataframe tbody tr th {\n",
       "        vertical-align: top;\n",
       "    }\n",
       "\n",
       "    .dataframe thead th {\n",
       "        text-align: right;\n",
       "    }\n",
       "</style>\n",
       "<table border=\"1\" class=\"dataframe\">\n",
       "  <thead>\n",
       "    <tr style=\"text-align: right;\">\n",
       "      <th></th>\n",
       "      <th>A</th>\n",
       "      <th>B</th>\n",
       "      <th>C</th>\n",
       "      <th>D</th>\n",
       "    </tr>\n",
       "  </thead>\n",
       "  <tbody>\n",
       "    <tr>\n",
       "      <th>2013-01-01</th>\n",
       "      <td>1.205598</td>\n",
       "      <td>-0.071438</td>\n",
       "      <td>0.306682</td>\n",
       "      <td>0.545717</td>\n",
       "    </tr>\n",
       "    <tr>\n",
       "      <th>2013-01-02</th>\n",
       "      <td>0.092422</td>\n",
       "      <td>-0.061060</td>\n",
       "      <td>-2.110284</td>\n",
       "      <td>-0.198416</td>\n",
       "    </tr>\n",
       "    <tr>\n",
       "      <th>2013-01-04</th>\n",
       "      <td>0.558765</td>\n",
       "      <td>-0.611331</td>\n",
       "      <td>-0.505350</td>\n",
       "      <td>-0.786160</td>\n",
       "    </tr>\n",
       "    <tr>\n",
       "      <th>2013-01-06</th>\n",
       "      <td>2.002523</td>\n",
       "      <td>2.479305</td>\n",
       "      <td>-0.147435</td>\n",
       "      <td>-1.527081</td>\n",
       "    </tr>\n",
       "  </tbody>\n",
       "</table>\n",
       "</div>"
      ],
      "text/plain": [
       "                   A         B         C         D\n",
       "2013-01-01  1.205598 -0.071438  0.306682  0.545717\n",
       "2013-01-02  0.092422 -0.061060 -2.110284 -0.198416\n",
       "2013-01-04  0.558765 -0.611331 -0.505350 -0.786160\n",
       "2013-01-06  2.002523  2.479305 -0.147435 -1.527081"
      ]
     },
     "execution_count": 20,
     "metadata": {},
     "output_type": "execute_result"
    }
   ],
   "source": [
    "# Boolean indexing\n",
    "df[df.A > 0]"
   ]
  },
  {
   "cell_type": "markdown",
   "metadata": {},
   "source": [
    "### Matplotlib\n",
    "\n",
    "In this last section, you get to meet _Matplotlib_, a fairly ubiquitous and powerful Python plotting library. Jupyter Notebook has some \"magic\" we can use in the line `%matplotlib inline` which permits us to draw charts directly in this notebook.\n",
    "\n",
    "Matplotlib, Numpy and Pandas form the three most important and ubiquitous tools in data analysis.\n",
    "\n",
    "Note that this is the merest slither of an introduction to what you can do with these libraries."
   ]
  },
  {
   "cell_type": "code",
   "execution_count": 21,
   "metadata": {},
   "outputs": [
    {
     "data": {
      "text/plain": [
       "<matplotlib.axes._subplots.AxesSubplot at 0x139a1b869e8>"
      ]
     },
     "execution_count": 21,
     "metadata": {},
     "output_type": "execute_result"
    },
    {
     "data": {
      "image/png": "[encoded data removed]",
      "text/plain": [
       "<matplotlib.figure.Figure at 0x139a1b52fd0>"
      ]
     },
     "metadata": {},
     "output_type": "display_data"
    }
   ],
   "source": [
    "import matplotlib.pyplot as plt\n",
    "# This bit of magic code will allow your Matplotlib plots to be shown directly in your Jupyter Notebook.\n",
    "%matplotlib inline\n",
    "\n",
    "# Produce a random timeseries\n",
    "ts = pd.Series(np.random.randn(1000), index=pd.date_range('1/1/2000', periods=1000))\n",
    "\n",
    "# Get the cumulative sum of the random numbers generated to mimic a historic data series\n",
    "ts = ts.cumsum()\n",
    "\n",
    "# And magically plot\n",
    "ts.plot()"
   ]
  },
  {
   "cell_type": "code",
   "execution_count": 22,
   "metadata": {},
   "outputs": [
    {
     "data": {
      "text/plain": [
       "<matplotlib.legend.Legend at 0x139a1f63ba8>"
      ]
     },
     "execution_count": 22,
     "metadata": {},
     "output_type": "execute_result"
    },
    {
     "data": {
      "text/plain": [
       "<matplotlib.figure.Figure at 0x139a1f765c0>"
      ]
     },
     "metadata": {},
     "output_type": "display_data"
    },
    {
     "data": {
      "image/png": "[encoded data removed]",
      "text/plain": [
       "<matplotlib.figure.Figure at 0x139a1f630b8>"
      ]
     },
     "metadata": {},
     "output_type": "display_data"
    }
   ],
   "source": [
    "# And do the same thing with a dataframe\n",
    "df = pd.DataFrame(np.random.randn(1000, 4), index=ts.index,\n",
    "                  columns=['A', 'B', 'C', 'D'])\n",
    "\n",
    "df = df.cumsum()\n",
    "\n",
    "# And plot, this time creating a figure and adding a plot and legend to it\n",
    "plt.figure()\n",
    "df.plot()\n",
    "plt.legend(loc='best')"
   ]
  },
  {
   "cell_type": "markdown",
   "metadata": {},
   "source": [
    "And that's it for this quick introduction to Python and its use in data analysis.\n",
    "\n",
    "<div class=\"alert alert-block alert-warning\">\n",
    "    ** Module documentation: **\n",
    "    <br>\n",
    "    <ul>\n",
    "        <li>__[Numpy tutorial](https://docs.scipy.org/doc/numpy-dev/user/quickstart.html)__</li>\n",
    "        <li>__[Pandas tutorial](https://pandas.pydata.org/pandas-docs/stable/10min.html)__</li>\n",
    "        <li>__[Matplotlib tutorial](https://matplotlib.org/users/index.html)__</li>\n",
    "        <li>__[Stack Overflow](https://stackoverflow.com/)__: for when the documentation isn't enough, or is too complex, there's Stack Overflow. This is a community of about 50 million developers from around the world, some professional, some amateur, all passionate about what they do. Search the archives for questions that you're trying to answer that others have already solved, or ask your own.</li>\n",
    "    </ul>\n",
    "</div>\n",
    "\n",
    "[(previous)](03 - Python intermediate.ipynb) | [(index)](00 - Introduction to Python.ipynb) | [(next)](05 - Introduction to data as a science.ipynb)"
   ]
  }
 ],
 "metadata": {
  "kernelspec": {
   "display_name": "Python 3",
   "language": "python",
   "name": "python3"
  },
  "language_info": {
   "codemirror_mode": {
    "name": "ipython",
    "version": 3
   },
   "file_extension": ".py",
   "mimetype": "text/x-python",
   "name": "python",
   "nbconvert_exporter": "python",
   "pygments_lexer": "ipython3",
   "version": "3.6.3"
  },
  "latex_envs": {
   "LaTeX_envs_menu_present": true,
   "autocomplete": true,
   "bibliofile": "biblio.bib",
   "cite_by": "apalike",
   "current_citInitial": 1,
   "eqLabelWithNumbers": true,
   "eqNumInitial": 1,
   "hotkeys": {
    "equation": "Ctrl-E",
    "itemize": "Ctrl-I"
   },
   "labels_anchors": false,
   "latex_user_defs": false,
   "report_style_numbering": false,
   "user_envs_cfg": false
  }
 },
 "nbformat": 4,
 "nbformat_minor": 2
}
