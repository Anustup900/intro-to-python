{
 "cells": [
  {
   "cell_type": "markdown",
   "metadata": {},
   "source": [
    "[(previous)](02%20-%20-%20-%20Python%20-%20basics.ipynb) | [(index)](00%20-%20-%20-%20Introduction%20-%20to%20-%20Python.ipynb) | [(next)](04%20-%20-%20-%20Python%20-%20tools%20-%20for%20-%20data%20-%20analysis.ipynb)\n",
    "\n",
    "# Python intermediate\n",
    "\n",
    "<div class=\"alert alert-block alert-warning\">\n",
    "    <b>Learning outcomes:</b>\n",
    "    <br>\n",
    "    <ul>\n",
    "        <li>Develop and use reusable code by encapsulating tasks in functions.</li>\n",
    "        <li>Package functions into flexible and extensible classes.</li>\n",
    "        <li>Apply closures and decorators to functions to modify function behaviour.</li>\n",
    "    </ul>\n",
    "</div>\n",
    "\n",
    "The code from the [last module](02 - Python basics.ipynb) was limited to short snippets. Solving more complex problems means more complex code stretching over hundreds, to thousands, of lines, and - if you want to reuse that code - it's not convenient to copy and paste it multiple times. Worse, any error is magnified, and any changes become tedious to manage.\n",
    "\n",
    "It would be far better to write a discrete module to contain that task, get it absolutely perfect, and call it whenever you want the same problem solved or task executed.\n",
    "\n",
    "In software, this process of packaging up discrete functions into their own modular code is called \"abstraction\". A complete software system consists of a number of discrete modules all interacting to produce an integrated experience.\n",
    "\n",
    "In Python, these modules are called `functions` and a complete suite of functions grouped around a set of related tasks is called a `library` or `module`. Libraries permit you to inherit a wide variety of powerful software solutions developed and maintained by other people.\n",
    "\n",
    "Python is [open source](https://en.wikipedia.org/wiki/Open-source_software), which means that its source code is released under a licence which permits anyone to study, change, and distribute the software to anyone and for any purpose. Many of the most popular Python libraries are also open source. There are thousands of shared libraries for you to use, and - maybe, when you feel confident enough - to contribute to with your own code.\n",
    "\n",
    "## Functions\n",
    "\n",
    "Functions are callable modules of code, some with parameters or arguments (variables you can pass to the function), which performs a task and may return a value. They're a convenient way to package code into discrete blocks, making your overall program more readable, reusable, and saving time.\n",
    "\n",
    "You can also easily share your functions with others, saving them time as well.\n",
    "<br>\n",
    "<div class=\"alert alert-block alert-info\">\n",
    "    <b>Syntax</b>\n",
    "    <br>\n",
    "    <ul>\n",
    "        <li>You structure a function using `def`, like so:</li>\n",
    "        `def function_name(parameters):\n",
    "         code\n",
    "         return response`\n",
    "        <li>`return` is optional, but allows you to return the results of any task performed by the function to the point where the function was called</li>\n",
    "        <li>To test whether an object is a function (i.e. callable), use `callable`, e.g. `callable(function)` will return `1`</li>\n",
    "    </ul>\n",
    "</div>"
   ]
  },
  {
   "cell_type": "code",
   "execution_count": 1,
   "metadata": {},
   "outputs": [
    {
     "name": "stdout",
     "output_type": "stream",
     "text": [
      "Hello, World!\n",
      "True\n"
     ]
    }
   ],
   "source": [
    "# A simple function with no arguments\n",
    "def say_hello():\n",
    "    print(\"Hello, World!\")\n",
    "\n",
    "# Calling it is as simple as this\n",
    "say_hello()\n",
    "\n",
    "# And you can test that it's a callable\n",
    "print(callable(say_hello))"
   ]
  },
  {
   "cell_type": "markdown",
   "metadata": {},
   "source": [
    "An argument can be any variable, such as integers, strings, lists, dictionaries or even other functions. This is where you start realising the importance of leaving comments and explanations in your code because you need to ensure that anyone using a function knows what variables the function expects, and in what order.\n",
    "\n",
    "Functions can also perform calculations and return these to whatever called them."
   ]
  },
  {
   "cell_type": "code",
   "execution_count": 2,
   "metadata": {},
   "outputs": [
    {
     "name": "stdout",
     "output_type": "stream",
     "text": [
      "Hello, Jill! I hope you have a great day.\n"
     ]
    },
    {
     "data": {
      "text/plain": [
       "15"
      ]
     },
     "execution_count": 2,
     "metadata": {},
     "output_type": "execute_result"
    }
   ],
   "source": [
    "# A function with two string arguments\n",
    "def say_hello_to_user(username, greeting):\n",
    "    # Returns a greeting to a username\n",
    "    print(\"Hello, {}! I hope you have a great {}.\".format(username, greeting))\n",
    "\n",
    "# Call it\n",
    "say_hello_to_user(\"Jill\", \"day\")\n",
    "\n",
    "# Perform a calculation and return it\n",
    "def sum_two_numbers(x, y):\n",
    "    # Returns the sum of x + y\n",
    "    return x + y\n",
    "\n",
    "sum_two_numbers(5, 10)"
   ]
  },
  {
   "cell_type": "markdown",
   "metadata": {},
   "source": [
    "You can see that swapping `username` and `greeting` in the `say_hello_to_user` function would be confusing, but swapping the numbers in `sum_two_numbers` wouldn't cause a problem.\n",
    "\n",
    "Not only can you call functions from functions, but you can also create variables that are functions, or the result of functions."
   ]
  },
  {
   "cell_type": "code",
   "execution_count": 3,
   "metadata": {},
   "outputs": [
    {
     "name": "stdout",
     "output_type": "stream",
     "text": [
      "625\n"
     ]
    }
   ],
   "source": [
    "def number_powered(number, exponent):\n",
    "    # Returns number to the power of exponent\n",
    "    return number ** exponent\n",
    "\n",
    "# Jupyter keeps functions available that were called in other cells\n",
    "# This means `sum_two_numbers` is still available\n",
    "def sum_and_power(number1, number2, exponent):\n",
    "    # Returns two numbers summed, and then to an exponent\n",
    "    summed = sum_two_numbers(number1, number2)\n",
    "    return number_powered(summed, exponent)\n",
    "\n",
    "# Call `sum_and_power`\n",
    "print(sum_and_power(2, 3, 4))"
   ]
  },
  {
   "cell_type": "markdown",
   "metadata": {},
   "source": [
    "With careful naming, and plenty of commentary, you can see how you can make your code extremely readable and self-explanatory.\n",
    "\n",
    "A better way of writing comments in functions is called `docstrings`. \n",
    "<div class=\"alert alert-block alert-info\">\n",
    "    <b>Syntax</b>\n",
    "    <br>\n",
    "    <ul>\n",
    "        <li>Docstrings are written as structured text between three sets of inverted commas, e.g. `\"\"\" This is a docstring \"\"\"`</li>\n",
    "        <li>You can access a function's docstring by calling `function.__doc__`</li>\n",
    "    </ul>\n",
    "</div>"
   ]
  },
  {
   "cell_type": "code",
   "execution_count": 4,
   "metadata": {},
   "outputs": [
    {
     "name": "stdout",
     "output_type": "stream",
     "text": [
      "\n",
      "    An example function which returns `True`.\n",
      "    \n",
      "True\n"
     ]
    }
   ],
   "source": [
    "def docstring_example():\n",
    "    \"\"\"\n",
    "    An example function which returns `True`.\n",
    "    \"\"\"\n",
    "    return True\n",
    "\n",
    "# Printing the docstring\n",
    "print(docstring_example.__doc__)\n",
    "\n",
    "# Calling it\n",
    "print(docstring_example())"
   ]
  },
  {
   "cell_type": "markdown",
   "metadata": {},
   "source": [
    "## Classes and Objects\n",
    "\n",
    "A complete Python object is an encapsulation of both variables and functions into a single entity. Objects get their variables and functions from `classes`.\n",
    "\n",
    "Classes are where most of the action happens in Python and coding consists, largely, of producing and using classes to perform tasks. \n",
    "\n",
    "A very basic class would look like this:"
   ]
  },
  {
   "cell_type": "code",
   "execution_count": 5,
   "metadata": {},
   "outputs": [
    {
     "name": "stdout",
     "output_type": "stream",
     "text": [
      "Look, a variable!\n",
      "I'm a class function!\n",
      "\n",
      "    A demonstration class.\n",
      "    \n",
      "\n",
      "        A demonstration class function.\n",
      "        \n"
     ]
    }
   ],
   "source": [
    "class myClass:\n",
    "    \"\"\"\n",
    "    A demonstration class.\n",
    "    \"\"\"\n",
    "    my_variable = \"Look, a variable!\"\n",
    "    \n",
    "    def my_function(self):\n",
    "        \"\"\"\n",
    "        A demonstration class function.\n",
    "        \"\"\"\n",
    "        return \"I'm a class function!\"\n",
    "\n",
    "# You call a class by creating a new class object\n",
    "new_class = myClass()\n",
    "\n",
    "# You can access class variables or functions with a dotted call, as follows\n",
    "print(new_class.my_variable)\n",
    "print(new_class.my_function())\n",
    "\n",
    "# Access the class docstrings\n",
    "print(myClass.__doc__)\n",
    "print(myClass.my_function.__doc__)"
   ]
  },
  {
   "cell_type": "markdown",
   "metadata": {},
   "source": [
    "Let's unpack the new syntax.\n",
    "<div class=\"alert alert-block alert-info\">\n",
    "    <b>Syntax</b>\n",
    "    <br>\n",
    "    <ul>\n",
    "        <li>You instantiate a class by calling it as `class()`. If you only called `class`, without the brackets, you'd gain access to the object itself. This is useful as well, and means you can pass classes around as you would variables.</li>\n",
    "        <li>All variables and functions of a class are reached via the dotted call, `.function()` or `.variable`. You can even add new functions and variables to a class you created. Remember, though, these will not exist in new classes you create since you haven't changed the underlying code.</li>\n",
    "        <li>Functions within a class require a base argument that, by convention, is called `self`. There's a complex explanation as to why `self` is needed, but - briefly - think of it as the instance of the object itself. So, inside the class, `self.function` is the way the class calls its component functions.</li>\n",
    "        <li>You can also access the docstrings as you would before.</li>\n",
    "    </ul>\n",
    "</div>"
   ]
  },
  {
   "cell_type": "code",
   "execution_count": 6,
   "metadata": {},
   "outputs": [
    {
     "name": "stdout",
     "output_type": "stream",
     "text": [
      "Hi, Bob! Look, a variable!\n"
     ]
    },
    {
     "ename": "AttributeError",
     "evalue": "'myClass' object has no attribute 'my_variable2'",
     "output_type": "error",
     "traceback": [
      "\u001b[1;31m---------------------------------------------------------------------------\u001b[0m",
      "\u001b[1;31mAttributeError\u001b[0m                            Traceback (most recent call last)",
      "\u001b[1;32m<ipython-input-6-544fecdbf014>\u001b[0m in \u001b[0;36m<module>\u001b[1;34m()\u001b[0m\n\u001b[0;32m      5\u001b[0m \u001b[1;33m\u001b[0m\u001b[0m\n\u001b[0;32m      6\u001b[0m \u001b[1;31m# But, trying to access my_variable2 in new_class causes an error\u001b[0m\u001b[1;33m\u001b[0m\u001b[1;33m\u001b[0m\u001b[0m\n\u001b[1;32m----> 7\u001b[1;33m \u001b[0mprint\u001b[0m\u001b[1;33m(\u001b[0m\u001b[0mnew_class\u001b[0m\u001b[1;33m.\u001b[0m\u001b[0mmy_variable2\u001b[0m\u001b[1;33m)\u001b[0m\u001b[1;33m\u001b[0m\u001b[0m\n\u001b[0m",
      "\u001b[1;31mAttributeError\u001b[0m: 'myClass' object has no attribute 'my_variable2'"
     ]
    }
   ],
   "source": [
    "# Add a new variable to a class instance\n",
    "new_class1 = myClass()\n",
    "new_class1.my_variable2 = \"Hi, Bob!\"\n",
    "print(new_class1.my_variable2, new_class1.my_variable)\n",
    "\n",
    "# But, trying to access my_variable2 in new_class causes an error\n",
    "print(new_class.my_variable2)"
   ]
  },
  {
   "cell_type": "markdown",
   "metadata": {},
   "source": [
    "Classes can initialise themselves with a set of available variables. This makes the `self` referencing more explicit, and also permits you to pass arguments to your class to set the initial values.\n",
    "<div class=\"alert alert-block alert-info\">\n",
    "    <b>Syntax</b>\n",
    "    <br>\n",
    "    <ul>\n",
    "        <li>Initialise a class with the special function `def __init__(self)`</li>\n",
    "        <li>Pass arguments to your functions with `__init__(self, arguments)`</li>\n",
    "        <li>We can also differentiate between arguments, and keyword arguments:</li>\n",
    "        <ul>\n",
    "            <li>**arguments**: these are passed in the usual way, as a single term, e.g. `my_function(argument)`.</li>\n",
    "            <li>**keyword arguments**: these are passed the way you would think of a dictionary, e.g. `my_function(keyword_argument = value)`. This is also a way to initialise an argument with a default. If you leave out the argument when it has a default it will apply without the function failing.</li>\n",
    "            <li>Functions often need to have numerous arguments and keyword arguments passed to them, and this can get messy. You can also think of a list of arguments like a list, and a list of keyword arguments like a dictionary. A tidier way to deal with this is to reference your arguments and keyword arguments like this, `my_function(*args, **kwargs)` where `*args` will be available to the function as an ordered list, and `**kwargs` as a dictionary.</li>\n",
    "        </ul>\n",
    "    </ul>\n",
    "</div>"
   ]
  },
  {
   "cell_type": "code",
   "execution_count": 7,
   "metadata": {},
   "outputs": [
    {
     "name": "stdout",
     "output_type": "stream",
     "text": [
      "Hello, World! None\n",
      "Hello, World! Bob\n",
      "Arg 1: Alice\n",
      "Arg 2: Bob\n",
      "Arg 3: Carol\n",
      "Arg 4: Dave\n",
      "Alice - Engineer\n",
      "Bob - Consultant\n",
      "Carol - Lawyer\n",
      "Dave - Doctor\n",
      "Hello, World!\n"
     ]
    },
    {
     "data": {
      "text/plain": [
       "True"
      ]
     },
     "execution_count": 7,
     "metadata": {},
     "output_type": "execute_result"
    }
   ],
   "source": [
    "# A demonstration of all these new concepts\n",
    "\n",
    "class demoClass:\n",
    "    \"\"\"\n",
    "    A demonstration class with an __init__ function, and a function that takes args and kwargs.\n",
    "    \"\"\"\n",
    "    \n",
    "    def __init__(self, argument = None):\n",
    "        \"\"\"\n",
    "        A function that is called automatically when the demoClass is initialised.\n",
    "        \"\"\"\n",
    "        self.demo_variable = \"Hello, World!\"\n",
    "        self.initial_variable = argument\n",
    "        \n",
    "    def demo_class(self, *args, **kwargs):\n",
    "        \"\"\"\n",
    "        A demo class that loops through any args and kwargs provided and prints them.\n",
    "        \"\"\"\n",
    "        for i, a in enumerate(args):\n",
    "            print(\"Arg {}: {}\".format(i+1, a))\n",
    "        for k, v in kwargs.items():\n",
    "            print(\"{} - {}\".format(k, v))\n",
    "        if kwargs.get(self.initial_variable):\n",
    "            print(self.demo_variable)\n",
    "        return True\n",
    "\n",
    "demo1 = demoClass()\n",
    "demo2 = demoClass(\"Bob\")\n",
    "\n",
    "# What was initialised in each demo object?\n",
    "print(demo1.demo_variable, demo1.initial_variable)\n",
    "print(demo2.demo_variable, demo2.initial_variable)\n",
    "\n",
    "# A demo of passing arguments and keyword arguments\n",
    "args = [\"Alice\", \"Bob\", \"Carol\", \"Dave\"]\n",
    "kwargs = {\"Alice\": \"Engineer\",\n",
    "          \"Bob\": \"Consultant\",\n",
    "          \"Carol\": \"Lawyer\",\n",
    "          \"Dave\": \"Doctor\"\n",
    "         }\n",
    "demo2.demo_class(*args, **kwargs)"
   ]
  },
  {
   "cell_type": "markdown",
   "metadata": {},
   "source": [
    "Using `*args` and `**kwargs` in your function calls while you're developing makes it easier to change your code without having to go back through every line of code that calls your function and bug-fix when you change the order or number of arguments you're calling. \n",
    "\n",
    "This reduces errors, improves readability, and makes for a more enjoyable and efficient coding experience.\n",
    "\n",
    "At this stage, you've learned the fundamental syntax, as well as how to create modular code. Now we need to make our code reusable and shareable.\n",
    "\n",
    "## Modules and Packages\n",
    "\n",
    "A module in Python is a set of classes or functions that encapsulate a single, and related, set of tasks. Packages are a set of modules collected together into a single focused unit. This can also be called a library.\n",
    "\n",
    "Creating a module is as simple as saving your class code in a file with the `.py` extension (much as a text file ends `.txt`).\n",
    "\n",
    "### Writing modules\n",
    "\n",
    "A set of modules in a library require have a specific set of requirements. Imagine we wish to develop a ping pong game. We can place the game logic in one module, and the functionality for drawing the game in another. That leads to a folder with the following file structure:\n",
    "\n",
    "    pingpong/\n",
    "    pingpong/game.py\n",
    "    pingpong/draw.py\n",
    "\n",
    "Within each file will be a set of functions. Assume that, within `draw.py` there is a function called `draw_game`. If you wanted to import the `draw_game` function into the `game.py` file, the convention is as follows:\n",
    "\n",
    "    import draw\n",
    "    \n",
    "This will import everything in the `draw.py` file. After that, you access functions from the file by making calls to, for example, `draw.draw_game`.\n",
    "\n",
    "Or, you can access each function directly and only import what you need (since some files can be extremely large and you don't necessarily wish to import everything):\n",
    "\n",
    "    from draw import draw_game\n",
    "    \n",
    "You're not always going to want to run programs from an interpreter (like Jupyter Notebook). When you run a program directly from the command-line, you need a special function called `main`, which is then executed as follows:\n",
    "\n",
    "    if __name__ == '__main__':\n",
    "        main()\n",
    "        \n",
    "Putting that together, the syntax for calling `game.py` from the command-line would be:\n",
    "\n",
    "    # game.py\n",
    "    # Import the draw_game function from draw.py\n",
    "    from draw import draw_game\n",
    "\n",
    "    def play_game():\n",
    "        ...\n",
    "\n",
    "    def main():\n",
    "        result = play_game()\n",
    "        draw_game(result)\n",
    "\n",
    "    # If this script is executed, then main() will be executed\n",
    "    if __name__ == '__main__':\n",
    "        main()\n",
    "\n",
    "<div class=\"alert alert-block alert-info\">\n",
    "    <b>Syntax</b>\n",
    "    <br>\n",
    "    <ul>\n",
    "        <li>Python functions and classes can be saved for reuse into files with the extension `.py`</li>\n",
    "        <li>You can import the functions from those files using either `import filename` (without the `.py` extension), or specific functions or classes from that file with `from filename import class, function1, function2`</li>\n",
    "        <li>You may notice that, after you run your program, Python automatically creates a file with the same name, but with `.pyc` as an extension. This is a compiled version of the file and happens automatically.</li>\n",
    "        <li>If you intend to run a file from the command-line, you must insert a `main` function and call it as follows</li>\n",
    "        `if __name__ == '__main__':\n",
    "            main()`\n",
    "        <li>If a module has a large number of functions you intend to use throughout your own code, then you can specify a custom name for use. For example, a module we'll learn about in the next section is called `pandas`. Convention is to import it as `import pandas as pd`. Now you'd access the functions in `pandas` using the dot notation of `pd.function`</li>\n",
    "        <li>You can also import modules based on logical conditions. If you then import these options under the same name, your code isn't effected by logical outcomes</li>        \n",
    "    </ul>\n",
    "</div>\n",
    "\n",
    "Putting all of this together in a pseudocode example (i.e this code doesn't work, so don't try executing it):"
   ]
  },
  {
   "cell_type": "code",
   "execution_count": 8,
   "metadata": {},
   "outputs": [
    {
     "ename": "NameError",
     "evalue": "name 'visual_mode' is not defined",
     "output_type": "error",
     "traceback": [
      "\u001b[1;31m---------------------------------------------------------------------------\u001b[0m",
      "\u001b[1;31mNameError\u001b[0m                                 Traceback (most recent call last)",
      "\u001b[1;32m<ipython-input-8-c1bc1f53a817>\u001b[0m in \u001b[0;36m<module>\u001b[1;34m()\u001b[0m\n\u001b[0;32m      1\u001b[0m \u001b[1;31m# game.py\u001b[0m\u001b[1;33m\u001b[0m\u001b[1;33m\u001b[0m\u001b[0m\n\u001b[0;32m      2\u001b[0m \u001b[1;31m# Import the draw module\u001b[0m\u001b[1;33m\u001b[0m\u001b[1;33m\u001b[0m\u001b[0m\n\u001b[1;32m----> 3\u001b[1;33m \u001b[1;32mif\u001b[0m \u001b[0mvisual_mode\u001b[0m\u001b[1;33m:\u001b[0m\u001b[1;33m\u001b[0m\u001b[0m\n\u001b[0m\u001b[0;32m      4\u001b[0m     \u001b[1;31m# in visual mode, we draw using graphics\u001b[0m\u001b[1;33m\u001b[0m\u001b[1;33m\u001b[0m\u001b[0m\n\u001b[0;32m      5\u001b[0m     \u001b[1;32mimport\u001b[0m \u001b[0mdraw_visual\u001b[0m \u001b[1;32mas\u001b[0m \u001b[0mdraw\u001b[0m\u001b[1;33m\u001b[0m\u001b[0m\n",
      "\u001b[1;31mNameError\u001b[0m: name 'visual_mode' is not defined"
     ]
    }
   ],
   "source": [
    "# game.py\n",
    "# Import the draw module\n",
    "if visual_mode:\n",
    "    # in visual mode, we draw using graphics\n",
    "    import draw_visual as draw\n",
    "else:\n",
    "    # In textual mode, we print out text\n",
    "    import draw_textual as draw\n",
    "\n",
    "def main():\n",
    "    result = play_game()\n",
    "    # this can either be visual or textual depending on visual_mode\n",
    "    draw.draw_game(result)"
   ]
  },
  {
   "cell_type": "markdown",
   "metadata": {},
   "source": [
    "See, pseudocode, it will break ... Note, though, that this shows how \"safe\" it is to experiment with code snippets in Jupyter Notebook. No harm done.\n",
    "\n",
    "## Built-in modules\n",
    "\n",
    "There are a vast range of built-in modules. Jupyter Notebook comes with an even larger list of third-party modules you can explore.\n",
    "\n",
    "<div class=\"alert alert-block alert-info\">\n",
    "    <b>Syntax</b>\n",
    "    <br>\n",
    "    <ul>\n",
    "        <li>After you've imported a module, `dir(module)` lets you see a list of all the functions implemented in that library.</li>\n",
    "        <li>You can also read the help from the module docstrings with `help(module)`</li>\n",
    "    </ul>\n",
    "</div>\n",
    "\n",
    "Let's explore a module you'll be using and learning about in future sessions of this course, `pandas`."
   ]
  },
  {
   "cell_type": "code",
   "execution_count": 9,
   "metadata": {},
   "outputs": [
    {
     "name": "stdout",
     "output_type": "stream",
     "text": [
      "Help on package pandas:\n",
      "\n",
      "NAME\n",
      "    pandas\n",
      "\n",
      "DESCRIPTION\n",
      "    pandas - a powerful data analysis and manipulation library for Python\n",
      "    =====================================================================\n",
      "    \n",
      "    **pandas** is a Python package providing fast, flexible, and expressive data\n",
      "    structures designed to make working with \"relational\" or \"labeled\" data both\n",
      "    easy and intuitive. It aims to be the fundamental high-level building block for\n",
      "    doing practical, **real world** data analysis in Python. Additionally, it has\n",
      "    the broader goal of becoming **the most powerful and flexible open source data\n",
      "    analysis / manipulation tool available in any language**. It is already well on\n",
      "    its way toward this goal.\n",
      "    \n",
      "    Main Features\n",
      "    -------------\n",
      "    Here are just a few of the things that pandas does well:\n",
      "    \n",
      "      - Easy handling of missing data in floating point as well as non-floating\n",
      "        point data\n",
      "      - Size mutability: columns can be inserted and deleted from DataFrame and\n",
      "        higher dimensional objects\n",
      "      - Automatic and explicit data alignment: objects can  be explicitly aligned\n",
      "        to a set of labels, or the user can simply ignore the labels and let\n",
      "        `Series`, `DataFrame`, etc. automatically align the data for you in\n",
      "        computations\n",
      "      - Powerful, flexible group by functionality to perform split-apply-combine\n",
      "        operations on data sets, for both aggregating and transforming data\n",
      "      - Make it easy to convert ragged, differently-indexed data in other Python\n",
      "        and NumPy data structures into DataFrame objects\n",
      "      - Intelligent label-based slicing, fancy indexing, and subsetting of large\n",
      "        data sets\n",
      "      - Intuitive merging and joining data sets\n",
      "      - Flexible reshaping and pivoting of data sets\n",
      "      - Hierarchical labeling of axes (possible to have multiple labels per tick)\n",
      "      - Robust IO tools for loading data from flat files (CSV and delimited),\n",
      "        Excel files, databases, and saving/loading data from the ultrafast HDF5\n",
      "        format\n",
      "      - Time series-specific functionality: date range generation and frequency\n",
      "        conversion, moving window statistics, moving window linear regressions,\n",
      "        date shifting and lagging, etc.\n",
      "\n",
      "PACKAGE CONTENTS\n",
      "    _libs (package)\n",
      "    _version\n",
      "    api (package)\n",
      "    compat (package)\n",
      "    computation (package)\n",
      "    conftest\n",
      "    core (package)\n",
      "    errors (package)\n",
      "    formats (package)\n",
      "    io (package)\n",
      "    json\n",
      "    lib\n",
      "    parser\n",
      "    plotting (package)\n",
      "    stats (package)\n",
      "    testing\n",
      "    tests (package)\n",
      "    tools (package)\n",
      "    tseries (package)\n",
      "    tslib\n",
      "    types (package)\n",
      "    util (package)\n",
      "\n",
      "SUBMODULES\n",
      "    _hashtable\n",
      "    _lib\n",
      "    _tslib\n",
      "    offsets\n",
      "\n",
      "DATA\n",
      "    IndexSlice = <pandas.core.indexing._IndexSlice object>\n",
      "    NaT = NaT\n",
      "    __docformat__ = 'restructuredtext'\n",
      "    datetools = <module 'pandas.core.datetools' from 'C:\\\\Users\\...\\lib\\\\s...\n",
      "    describe_option = <pandas.core.config.CallableDynamicDoc object>\n",
      "    get_option = <pandas.core.config.CallableDynamicDoc object>\n",
      "    json = <module 'pandas.json' from 'C:\\\\Users\\\\Turukawa\\...atascience\\\\...\n",
      "    lib = <module 'pandas.lib' from 'C:\\\\Users\\\\Turukawa\\\\...datascience\\\\...\n",
      "    options = <pandas.core.config.DictWrapper object>\n",
      "    parser = <module 'pandas.parser' from 'C:\\\\Users\\\\Turukaw...ascience\\\\...\n",
      "    plot_params = {'xaxis.compat': False}\n",
      "    reset_option = <pandas.core.config.CallableDynamicDoc object>\n",
      "    set_option = <pandas.core.config.CallableDynamicDoc object>\n",
      "    tslib = <module 'pandas.tslib' from 'C:\\\\Users\\\\Turukawa...tascience\\\\...\n",
      "\n",
      "VERSION\n",
      "    0.21.1\n",
      "\n",
      "FILE\n",
      "    c:\\users\\turukawa\\anaconda3\\envs\\datascience\\lib\\site-packages\\pandas\\__init__.py\n",
      "\n",
      "\n"
     ]
    }
   ],
   "source": [
    "import pandas as pd\n",
    "\n",
    "help(pd)"
   ]
  },
  {
   "cell_type": "code",
   "execution_count": 10,
   "metadata": {},
   "outputs": [
    {
     "data": {
      "text/plain": [
       "['Categorical',\n",
       " 'CategoricalIndex',\n",
       " 'DataFrame',\n",
       " 'DateOffset',\n",
       " 'DatetimeIndex',\n",
       " 'ExcelFile',\n",
       " 'ExcelWriter',\n",
       " 'Expr',\n",
       " 'Float64Index',\n",
       " 'Grouper',\n",
       " 'HDFStore',\n",
       " 'Index',\n",
       " 'IndexSlice',\n",
       " 'Int64Index',\n",
       " 'Interval',\n",
       " 'IntervalIndex',\n",
       " 'MultiIndex',\n",
       " 'NaT',\n",
       " 'Panel',\n",
       " 'Panel4D',\n",
       " 'Period',\n",
       " 'PeriodIndex',\n",
       " 'RangeIndex',\n",
       " 'Series',\n",
       " 'SparseArray',\n",
       " 'SparseDataFrame',\n",
       " 'SparseList',\n",
       " 'SparseSeries',\n",
       " 'Term',\n",
       " 'TimeGrouper',\n",
       " 'Timedelta',\n",
       " 'TimedeltaIndex',\n",
       " 'Timestamp',\n",
       " 'UInt64Index',\n",
       " 'WidePanel',\n",
       " '_DeprecatedModule',\n",
       " '__builtins__',\n",
       " '__cached__',\n",
       " '__doc__',\n",
       " '__docformat__',\n",
       " '__file__',\n",
       " '__loader__',\n",
       " '__name__',\n",
       " '__package__',\n",
       " '__path__',\n",
       " '__spec__',\n",
       " '__version__',\n",
       " '_hashtable',\n",
       " '_lib',\n",
       " '_libs',\n",
       " '_np_version_under1p10',\n",
       " '_np_version_under1p11',\n",
       " '_np_version_under1p12',\n",
       " '_np_version_under1p13',\n",
       " '_np_version_under1p14',\n",
       " '_np_version_under1p15',\n",
       " '_tslib',\n",
       " '_version',\n",
       " 'api',\n",
       " 'bdate_range',\n",
       " 'compat',\n",
       " 'concat',\n",
       " 'core',\n",
       " 'crosstab',\n",
       " 'cut',\n",
       " 'date_range',\n",
       " 'datetime',\n",
       " 'datetools',\n",
       " 'describe_option',\n",
       " 'errors',\n",
       " 'eval',\n",
       " 'ewma',\n",
       " 'ewmcorr',\n",
       " 'ewmcov',\n",
       " 'ewmstd',\n",
       " 'ewmvar',\n",
       " 'ewmvol',\n",
       " 'expanding_apply',\n",
       " 'expanding_corr',\n",
       " 'expanding_count',\n",
       " 'expanding_cov',\n",
       " 'expanding_kurt',\n",
       " 'expanding_max',\n",
       " 'expanding_mean',\n",
       " 'expanding_median',\n",
       " 'expanding_min',\n",
       " 'expanding_quantile',\n",
       " 'expanding_skew',\n",
       " 'expanding_std',\n",
       " 'expanding_sum',\n",
       " 'expanding_var',\n",
       " 'factorize',\n",
       " 'get_dummies',\n",
       " 'get_option',\n",
       " 'get_store',\n",
       " 'groupby',\n",
       " 'infer_freq',\n",
       " 'interval_range',\n",
       " 'io',\n",
       " 'isna',\n",
       " 'isnull',\n",
       " 'json',\n",
       " 'lib',\n",
       " 'lreshape',\n",
       " 'match',\n",
       " 'melt',\n",
       " 'merge',\n",
       " 'merge_asof',\n",
       " 'merge_ordered',\n",
       " 'notna',\n",
       " 'notnull',\n",
       " 'np',\n",
       " 'offsets',\n",
       " 'option_context',\n",
       " 'options',\n",
       " 'ordered_merge',\n",
       " 'pandas',\n",
       " 'parser',\n",
       " 'period_range',\n",
       " 'pivot',\n",
       " 'pivot_table',\n",
       " 'plot_params',\n",
       " 'plotting',\n",
       " 'pnow',\n",
       " 'qcut',\n",
       " 'read_clipboard',\n",
       " 'read_csv',\n",
       " 'read_excel',\n",
       " 'read_feather',\n",
       " 'read_fwf',\n",
       " 'read_gbq',\n",
       " 'read_hdf',\n",
       " 'read_html',\n",
       " 'read_json',\n",
       " 'read_msgpack',\n",
       " 'read_parquet',\n",
       " 'read_pickle',\n",
       " 'read_sas',\n",
       " 'read_sql',\n",
       " 'read_sql_query',\n",
       " 'read_sql_table',\n",
       " 'read_stata',\n",
       " 'read_table',\n",
       " 'reset_option',\n",
       " 'rolling_apply',\n",
       " 'rolling_corr',\n",
       " 'rolling_count',\n",
       " 'rolling_cov',\n",
       " 'rolling_kurt',\n",
       " 'rolling_max',\n",
       " 'rolling_mean',\n",
       " 'rolling_median',\n",
       " 'rolling_min',\n",
       " 'rolling_quantile',\n",
       " 'rolling_skew',\n",
       " 'rolling_std',\n",
       " 'rolling_sum',\n",
       " 'rolling_var',\n",
       " 'rolling_window',\n",
       " 'scatter_matrix',\n",
       " 'set_eng_float_format',\n",
       " 'set_option',\n",
       " 'show_versions',\n",
       " 'stats',\n",
       " 'test',\n",
       " 'testing',\n",
       " 'timedelta_range',\n",
       " 'to_datetime',\n",
       " 'to_msgpack',\n",
       " 'to_numeric',\n",
       " 'to_pickle',\n",
       " 'to_timedelta',\n",
       " 'tools',\n",
       " 'tseries',\n",
       " 'tslib',\n",
       " 'unique',\n",
       " 'util',\n",
       " 'value_counts',\n",
       " 'wide_to_long']"
      ]
     },
     "execution_count": 10,
     "metadata": {},
     "output_type": "execute_result"
    }
   ],
   "source": [
    "dir(pd)"
   ]
  },
  {
   "cell_type": "markdown",
   "metadata": {},
   "source": [
    "## Writing packages\n",
    "\n",
    "Packages are libraries containing multiples modules and files. They are stored in directories and have one important requirement: each package is a directory which **must** contain an initialisation file called (unsurprisingly) `__init__.py`.\n",
    "\n",
    "The file can be entirely empty, but it is imported and executed with the `import` function. This permits you to set some rules, or initial steps to be performed with the first importation of the package.\n",
    "\n",
    "You may be concerned that - with the modular nature of Python files and code - you may import a single library multiple times. Python keeps track and will only import (and initialise) the package once.\n",
    "\n",
    "One useful part of the `__init__.py` file is that you can limit what is imported with the command `from package import *`."
   ]
  },
  {
   "cell_type": "code",
   "execution_count": 11,
   "metadata": {},
   "outputs": [],
   "source": [
    "#__init__.py\n",
    "\n",
    "__all__ = [\"class1\", \"class2\"]"
   ]
  },
  {
   "cell_type": "markdown",
   "metadata": {},
   "source": [
    "This means that `from package import *` actually only imports `class1` and `class2`\n",
    "\n",
    "The next two sections are optional since, at this stage of your development practice, you're far less likely to need to produce code of this nature, but it can be useful to see how Python can be used in a slightly more advanced way.\n",
    "\n",
    "## Closures\n",
    "\n",
    "Python has the concept of `scopes`. The variables created within a class or function are only available within that class or function. The variables are available within the `scope` of the place they are called. If you want variables to be available within a function, you pass them as arguments (as you've seen previously).\n",
    "\n",
    "Sometimes you want to have a global argument available to all functions, and sometimes you want a variable to be available to specific functions without being available more generally. Functions that can do this are called `closures`, and closures start with `nested functions`.\n",
    "\n",
    "A `nested function` is a function defined inside another function. These nested functions gain access to the variables created in the enclosing scope."
   ]
  },
  {
   "cell_type": "code",
   "execution_count": 12,
   "metadata": {},
   "outputs": [
    {
     "name": "stdout",
     "output_type": "stream",
     "text": [
      "Test message\n"
     ]
    }
   ],
   "source": [
    "def transmit_to_space(message):\n",
    "    \"\"\"\n",
    "    This is the enclosing function\n",
    "    \"\"\"\n",
    "    def data_transmitter():\n",
    "        \"\"\"\n",
    "        The nested function\n",
    "        \"\"\"\n",
    "        print(message)\n",
    "    # Now the enclosing function calls the nested function\n",
    "    data_transmitter()\n",
    "\n",
    "transmit_to_space(\"Test message\")"
   ]
  },
  {
   "cell_type": "markdown",
   "metadata": {},
   "source": [
    "It's useful to remember that functions are also objects, so we can simply return the nested function as a response."
   ]
  },
  {
   "cell_type": "code",
   "execution_count": 13,
   "metadata": {},
   "outputs": [
    {
     "name": "stdout",
     "output_type": "stream",
     "text": [
      "Into the sun!\n"
     ]
    }
   ],
   "source": [
    "def transmit_to_space(message):\n",
    "    \"\"\"\n",
    "    This is the enclosing function\n",
    "    \"\"\"\n",
    "    def data_transmitter():\n",
    "        \"\"\"\n",
    "        The nested function\n",
    "        \"\"\"\n",
    "        print(message)\n",
    "    # Return an object of the nested function (i.e. without brackets)\n",
    "    return data_transmitter\n",
    "\n",
    "msg = transmit_to_space(\"Into the sun!\")\n",
    "msg()"
   ]
  },
  {
   "cell_type": "markdown",
   "metadata": {},
   "source": [
    "## Decorators\n",
    "\n",
    "Closures may seem a little esoteric. Why would you use them?\n",
    "\n",
    "Think in terms of the modularity of Python code. Sometimes you want to pre-process arguments before a function acts on them. You may have multiple different functions, but you want to validate your data in the same way each time. Instead of modifying each function, it would be better to enclose your function and only return data once your closure has completed its task.\n",
    "\n",
    "One example of this is in websites. Some functions should only be executed if the user has the rights to do so. Testing for that in every function is tedious.\n",
    "\n",
    "Python has syntax for enclosing a function in a closure. This is called the `decorator`, which has the following form:\n",
    "\n",
    "    @decorator\n",
    "    def functions(arg):\n",
    "        return True\n",
    "\n",
    "This is equivalent to `function = decorator(function)`, which is similar to the way the closures are structured in the previous section.\n",
    "\n",
    "As a silly example:"
   ]
  },
  {
   "cell_type": "code",
   "execution_count": 14,
   "metadata": {},
   "outputs": [
    {
     "name": "stdout",
     "output_type": "stream",
     "text": [
      "42\n",
      "42\n"
     ]
    }
   ],
   "source": [
    "def repeater(old_function):\n",
    "    \"\"\"\n",
    "    A closure for any function which, passed as `old_function`\n",
    "    returns `new_function`\n",
    "    \"\"\"\n",
    "    def new_function(*args, **kwds):\n",
    "        \"\"\"\n",
    "        A demo function which repeats any function in the outer scope.\n",
    "        \"\"\"\n",
    "        old_function(*args, **kwds)\n",
    "        old_function(*args, **kwds)\n",
    "    return new_function\n",
    "\n",
    "# We user `repeater` as a decorator like this\n",
    "@repeater\n",
    "def multiply(num1, num2):\n",
    "    print(num1 * num2)\n",
    "\n",
    "# And execute\n",
    "multiply(6,7)"
   ]
  },
  {
   "cell_type": "markdown",
   "metadata": {},
   "source": [
    "You can modify the output as well as the input."
   ]
  },
  {
   "cell_type": "code",
   "execution_count": 15,
   "metadata": {},
   "outputs": [
    {
     "name": "stdout",
     "output_type": "stream",
     "text": [
      "1764\n",
      "36\n"
     ]
    },
    {
     "ename": "TypeError",
     "evalue": "new_function() takes 1 positional argument but 2 were given",
     "output_type": "error",
     "traceback": [
      "\u001b[1;31m---------------------------------------------------------------------------\u001b[0m",
      "\u001b[1;31mTypeError\u001b[0m                                 Traceback (most recent call last)",
      "\u001b[1;32m<ipython-input-15-2f68e5a397d0>\u001b[0m in \u001b[0;36m<module>\u001b[1;34m()\u001b[0m\n\u001b[0;32m     32\u001b[0m     \u001b[1;32mreturn\u001b[0m \u001b[0mnum1\u001b[0m \u001b[1;33m*\u001b[0m \u001b[0mnum2\u001b[0m\u001b[1;33m\u001b[0m\u001b[0m\n\u001b[0;32m     33\u001b[0m \u001b[1;33m\u001b[0m\u001b[0m\n\u001b[1;32m---> 34\u001b[1;33m \u001b[0mprint\u001b[0m\u001b[1;33m(\u001b[0m\u001b[0mmultiply\u001b[0m\u001b[1;33m(\u001b[0m\u001b[1;36m6\u001b[0m\u001b[1;33m,\u001b[0m\u001b[1;36m7\u001b[0m\u001b[1;33m)\u001b[0m\u001b[1;33m)\u001b[0m\u001b[1;33m\u001b[0m\u001b[0m\n\u001b[0m",
      "\u001b[1;31mTypeError\u001b[0m: new_function() takes 1 positional argument but 2 were given"
     ]
    }
   ],
   "source": [
    "def exponent_out(old_function):\n",
    "    \"\"\"\n",
    "    This modification works on any combination of args and kwargs.\n",
    "    \"\"\"\n",
    "    def new_function(*args, **kwargs):\n",
    "        return old_function(*args, **kwargs) ** 2\n",
    "    return new_function\n",
    "\n",
    "def exponent_in(old_function):\n",
    "    \"\"\"\n",
    "    This modification only works if we know we have one argument.\n",
    "    \"\"\"\n",
    "    def new_function(arg):\n",
    "        return old_function(arg ** 2)\n",
    "    return new_function\n",
    "\n",
    "@exponent_out\n",
    "def multiply(num1, num2):\n",
    "    return num1 * num2\n",
    "\n",
    "print(multiply(6,7))\n",
    "\n",
    "@exponent_in\n",
    "def digit(num):\n",
    "    return num\n",
    "\n",
    "print(digit(6))\n",
    "\n",
    "# And, let's trigger an error\n",
    "@exponent_in\n",
    "def multiply(num1, num2):\n",
    "    return num1 * num2\n",
    "\n",
    "print(multiply(6,7))"
   ]
  },
  {
   "cell_type": "markdown",
   "metadata": {},
   "source": [
    "You can use decorators to check that an argument meets certain conditions before running the function."
   ]
  },
  {
   "cell_type": "code",
   "execution_count": 16,
   "metadata": {},
   "outputs": [
    {
     "ename": "TypeError",
     "evalue": "exceptions must derive from BaseException",
     "output_type": "error",
     "traceback": [
      "\u001b[1;31m---------------------------------------------------------------------------\u001b[0m",
      "\u001b[1;31mTypeError\u001b[0m                                 Traceback (most recent call last)",
      "\u001b[1;32m<ipython-input-16-45d6c658a65c>\u001b[0m in \u001b[0;36m<module>\u001b[1;34m()\u001b[0m\n\u001b[0;32m     13\u001b[0m     \u001b[0mprint\u001b[0m\u001b[1;33m(\u001b[0m\u001b[0mnum\u001b[0m\u001b[1;33m)\u001b[0m\u001b[1;33m\u001b[0m\u001b[0m\n\u001b[0;32m     14\u001b[0m \u001b[1;33m\u001b[0m\u001b[0m\n\u001b[1;32m---> 15\u001b[1;33m \u001b[0mprint_num\u001b[0m\u001b[1;33m(\u001b[0m\u001b[1;36m0\u001b[0m\u001b[1;33m)\u001b[0m\u001b[1;33m\u001b[0m\u001b[0m\n\u001b[0m",
      "\u001b[1;32m<ipython-input-16-45d6c658a65c>\u001b[0m in \u001b[0;36mnew_function\u001b[1;34m(arg)\u001b[0m\n\u001b[0;32m      5\u001b[0m     \u001b[1;32mdef\u001b[0m \u001b[0mnew_function\u001b[0m\u001b[1;33m(\u001b[0m\u001b[0marg\u001b[0m\u001b[1;33m)\u001b[0m\u001b[1;33m:\u001b[0m\u001b[1;33m\u001b[0m\u001b[0m\n\u001b[0;32m      6\u001b[0m         \u001b[1;32mif\u001b[0m \u001b[0marg\u001b[0m \u001b[1;33m==\u001b[0m \u001b[1;36m0\u001b[0m\u001b[1;33m:\u001b[0m\u001b[1;33m\u001b[0m\u001b[0m\n\u001b[1;32m----> 7\u001b[1;33m             \u001b[1;32mraise\u001b[0m \u001b[1;33m(\u001b[0m\u001b[0mValueError\u001b[0m\u001b[1;33m,\u001b[0m \u001b[1;34m\"Zero Argument\"\u001b[0m\u001b[1;33m)\u001b[0m\u001b[1;33m\u001b[0m\u001b[0m\n\u001b[0m\u001b[0;32m      8\u001b[0m         \u001b[0mold_function\u001b[0m\u001b[1;33m(\u001b[0m\u001b[0marg\u001b[0m\u001b[1;33m)\u001b[0m\u001b[1;33m\u001b[0m\u001b[0m\n\u001b[0;32m      9\u001b[0m     \u001b[1;32mreturn\u001b[0m \u001b[0mnew_function\u001b[0m\u001b[1;33m\u001b[0m\u001b[0m\n",
      "\u001b[1;31mTypeError\u001b[0m: exceptions must derive from BaseException"
     ]
    }
   ],
   "source": [
    "def check_zero(old_function):\n",
    "    \"\"\"\n",
    "    Check the argument passed to a function to ensure it is not zero.\n",
    "    \"\"\"\n",
    "    def new_function(arg):\n",
    "        if arg == 0: \n",
    "            raise (ValueError, \"Zero Argument\")\n",
    "        old_function(arg)\n",
    "    return new_function\n",
    "\n",
    "@check_zero\n",
    "def print_num(num):\n",
    "    print(num)\n",
    "\n",
    "print_num(0)"
   ]
  },
  {
   "cell_type": "markdown",
   "metadata": {},
   "source": [
    "Sometimes, though, you want to pass new arguments to a decorator so that you can do something before executing your function. That rests on doubly-nested functions."
   ]
  },
  {
   "cell_type": "code",
   "execution_count": 17,
   "metadata": {},
   "outputs": [
    {
     "data": {
      "text/plain": [
       "15"
      ]
     },
     "execution_count": 17,
     "metadata": {},
     "output_type": "execute_result"
    }
   ],
   "source": [
    "def multiply(multiplier):\n",
    "    \"\"\"\n",
    "    Using the multiplier argument, modify the old function to return\n",
    "    multiplier * old_function\n",
    "    \"\"\"\n",
    "    def multiply_generator(old_function):\n",
    "        def new_function(*args, **kwds):\n",
    "            return multiplier * old_function(*args, **kwds)\n",
    "        return new_function\n",
    "    return multiply_generator\n",
    "\n",
    "@multiply(3)\n",
    "def return_num(num):\n",
    "    return num\n",
    "\n",
    "return_num(5)"
   ]
  },
  {
   "cell_type": "markdown",
   "metadata": {},
   "source": [
    "And that marks the end of this section of the tutorial.\n",
    "\n",
    "[(previous)](02%20-%20-%20-%20Python%20-%20basics.ipynb) | [(index)](00%20-%20-%20-%20Introduction%20-%20to%20-%20Python.ipynb) | [(next)](04%20-%20-%20-%20Python%20-%20tools%20-%20for%20-%20data%20-%20analysis.ipynb)"
   ]
  }
 ],
 "metadata": {
  "kernelspec": {
   "display_name": "Python 3",
   "language": "python",
   "name": "python3"
  },
  "language_info": {
   "codemirror_mode": {
    "name": "ipython",
    "version": 3
   },
   "file_extension": ".py",
   "mimetype": "text/x-python",
   "name": "python",
   "nbconvert_exporter": "python",
   "pygments_lexer": "ipython3",
   "version": "3.6.8"
  },
  "latex_envs": {
   "LaTeX_envs_menu_present": true,
   "autocomplete": true,
   "bibliofile": "biblio.bib",
   "cite_by": "apalike",
   "current_citInitial": 1,
   "eqLabelWithNumbers": true,
   "eqNumInitial": 1,
   "hotkeys": {
    "equation": "Ctrl-E",
    "itemize": "Ctrl-I"
   },
   "labels_anchors": false,
   "latex_user_defs": false,
   "report_style_numbering": false,
   "user_envs_cfg": false
  }
 },
 "nbformat": 4,
 "nbformat_minor": 2
}
